{
 "cells": [
  {
   "cell_type": "markdown",
   "metadata": {},
   "source": [
    "<div class=\"alert alert-block alert-info\"><font size=\"3\"><b>Visualització gràfica de Múltiples variables amb el data set movies.dat</u></b></center></font>\n",
    "\n",
    "Exercici 2\n",
    "\n",
    "**1. Estudi de la relació entre variables**\n",
    " - 1.1. Adquisició i exploració inicial del Data Set\n",
    " - 1.2. Gràfics de dispersió\n",
    " - 1.3. Gràfic en Matriu\n",
    " - 1.4. Histogrames i Gràfics de Caixa\n",
    " \n",
    "**2. Estadísitques descriptives:**\n",
    " - 2.1. Mitjana\n",
    " - 2.2. Variància \n",
    " - 2.3. Desviació Estàndard\n",
    " - 2.4. Box plots"
   ]
  },
  {
   "cell_type": "markdown",
   "metadata": {},
   "source": [
    "## <span style=color:darkblue>1. ESTUDI DE LA RELACIÓ ENTRE VARIABLES</span>\n",
    "### <span style=color:darkblue>1.1. ADQUISICIÓ I EXPLORACIÓ INICIAL DEL DATA SET</span>"
   ]
  },
  {
   "cell_type": "code",
   "execution_count": 1,
   "metadata": {
    "ExecuteTime": {
     "end_time": "2021-02-03T09:47:03.963305Z",
     "start_time": "2021-02-03T09:46:57.616640Z"
    }
   },
   "outputs": [],
   "source": [
    "# importing libraries\n",
    "import numpy as np\n",
    "import pandas as pd\n",
    "import matplotlib.pyplot as plt\n",
    "import seaborn as sns\n",
    "import warnings\n",
    "\n",
    "warnings.filterwarnings('ignore')"
   ]
  },
  {
   "cell_type": "code",
   "execution_count": 2,
   "metadata": {},
   "outputs": [],
   "source": [
    "movies = pd.read_table('movies.dat', sep='::', header=None, engine='python')"
   ]
  },
  {
   "cell_type": "code",
   "execution_count": 3,
   "metadata": {
    "ExecuteTime": {
     "end_time": "2021-01-20T16:37:27.845980Z",
     "start_time": "2021-01-20T16:37:27.839999Z"
    }
   },
   "outputs": [
    {
     "data": {
      "text/plain": [
       "(3883, 3)"
      ]
     },
     "execution_count": 3,
     "metadata": {},
     "output_type": "execute_result"
    }
   ],
   "source": [
    "movies.shape #té 3883 registres"
   ]
  },
  {
   "cell_type": "code",
   "execution_count": 4,
   "metadata": {
    "ExecuteTime": {
     "end_time": "2021-01-20T16:38:12.851359Z",
     "start_time": "2021-01-20T16:38:12.842383Z"
    },
    "scrolled": true
   },
   "outputs": [
    {
     "data": {
      "text/html": [
       "<div>\n",
       "<style scoped>\n",
       "    .dataframe tbody tr th:only-of-type {\n",
       "        vertical-align: middle;\n",
       "    }\n",
       "\n",
       "    .dataframe tbody tr th {\n",
       "        vertical-align: top;\n",
       "    }\n",
       "\n",
       "    .dataframe thead th {\n",
       "        text-align: right;\n",
       "    }\n",
       "</style>\n",
       "<table border=\"1\" class=\"dataframe\">\n",
       "  <thead>\n",
       "    <tr style=\"text-align: right;\">\n",
       "      <th></th>\n",
       "      <th>0</th>\n",
       "      <th>1</th>\n",
       "      <th>2</th>\n",
       "    </tr>\n",
       "  </thead>\n",
       "  <tbody>\n",
       "    <tr>\n",
       "      <th>0</th>\n",
       "      <td>1</td>\n",
       "      <td>Toy Story (1995)</td>\n",
       "      <td>Animation|Children's|Comedy</td>\n",
       "    </tr>\n",
       "    <tr>\n",
       "      <th>1</th>\n",
       "      <td>2</td>\n",
       "      <td>Jumanji (1995)</td>\n",
       "      <td>Adventure|Children's|Fantasy</td>\n",
       "    </tr>\n",
       "    <tr>\n",
       "      <th>2</th>\n",
       "      <td>3</td>\n",
       "      <td>Grumpier Old Men (1995)</td>\n",
       "      <td>Comedy|Romance</td>\n",
       "    </tr>\n",
       "    <tr>\n",
       "      <th>3</th>\n",
       "      <td>4</td>\n",
       "      <td>Waiting to Exhale (1995)</td>\n",
       "      <td>Comedy|Drama</td>\n",
       "    </tr>\n",
       "    <tr>\n",
       "      <th>4</th>\n",
       "      <td>5</td>\n",
       "      <td>Father of the Bride Part II (1995)</td>\n",
       "      <td>Comedy</td>\n",
       "    </tr>\n",
       "  </tbody>\n",
       "</table>\n",
       "</div>"
      ],
      "text/plain": [
       "   0                                   1                             2\n",
       "0  1                    Toy Story (1995)   Animation|Children's|Comedy\n",
       "1  2                      Jumanji (1995)  Adventure|Children's|Fantasy\n",
       "2  3             Grumpier Old Men (1995)                Comedy|Romance\n",
       "3  4            Waiting to Exhale (1995)                  Comedy|Drama\n",
       "4  5  Father of the Bride Part II (1995)                        Comedy"
      ]
     },
     "execution_count": 4,
     "metadata": {},
     "output_type": "execute_result"
    }
   ],
   "source": [
    "movies.head() #nom de les variables o atributs (10)"
   ]
  },
  {
   "cell_type": "code",
   "execution_count": 118,
   "metadata": {},
   "outputs": [],
   "source": [
    "# les dades en la columna '1' estan barrejades, s'han de separar\n",
    "def get_film(x):\n",
    "    film = x[:len(x)-7]\n",
    "    return film\n",
    "def get_year(y):\n",
    "    year = y[len(y)-5:len(y)-1]\n",
    "    return int(year)\n",
    "\n",
    "# es crea un nou df per posar la informació re-endreçada\n",
    "movies2 = pd.DataFrame()    \n",
    "movies2[\"film\"] = movies[1].apply(get_film)\n",
    "movies2[\"year\"] = movies[1].apply(get_year)\n",
    "\n",
    "def generes(z): #posem els gèneres en format de llista\n",
    "    g = z.split(\"|\")\n",
    "    return g\n",
    "\n",
    "def num_g(a): #comptem el nombre de gèneres\n",
    "    n = len(a)\n",
    "    return n\n",
    "movies2[\"genere\"] = movies[2].apply(generes)\n",
    "movies2[\"n_generes\"] = movies2[\"genere\"].apply(num_g) #nova variable per emmagatzemar el nombre de gèneres"
   ]
  },
  {
   "cell_type": "code",
   "execution_count": 119,
   "metadata": {},
   "outputs": [
    {
     "data": {
      "text/html": [
       "<div>\n",
       "<style scoped>\n",
       "    .dataframe tbody tr th:only-of-type {\n",
       "        vertical-align: middle;\n",
       "    }\n",
       "\n",
       "    .dataframe tbody tr th {\n",
       "        vertical-align: top;\n",
       "    }\n",
       "\n",
       "    .dataframe thead th {\n",
       "        text-align: right;\n",
       "    }\n",
       "</style>\n",
       "<table border=\"1\" class=\"dataframe\">\n",
       "  <thead>\n",
       "    <tr style=\"text-align: right;\">\n",
       "      <th></th>\n",
       "      <th>film</th>\n",
       "      <th>year</th>\n",
       "      <th>genere</th>\n",
       "      <th>n_generes</th>\n",
       "    </tr>\n",
       "  </thead>\n",
       "  <tbody>\n",
       "    <tr>\n",
       "      <th>0</th>\n",
       "      <td>Toy Story</td>\n",
       "      <td>1995</td>\n",
       "      <td>[Animation, Children's, Comedy]</td>\n",
       "      <td>3</td>\n",
       "    </tr>\n",
       "    <tr>\n",
       "      <th>1</th>\n",
       "      <td>Jumanji</td>\n",
       "      <td>1995</td>\n",
       "      <td>[Adventure, Children's, Fantasy]</td>\n",
       "      <td>3</td>\n",
       "    </tr>\n",
       "    <tr>\n",
       "      <th>2</th>\n",
       "      <td>Grumpier Old Men</td>\n",
       "      <td>1995</td>\n",
       "      <td>[Comedy, Romance]</td>\n",
       "      <td>2</td>\n",
       "    </tr>\n",
       "    <tr>\n",
       "      <th>3</th>\n",
       "      <td>Waiting to Exhale</td>\n",
       "      <td>1995</td>\n",
       "      <td>[Comedy, Drama]</td>\n",
       "      <td>2</td>\n",
       "    </tr>\n",
       "    <tr>\n",
       "      <th>4</th>\n",
       "      <td>Father of the Bride Part II</td>\n",
       "      <td>1995</td>\n",
       "      <td>[Comedy]</td>\n",
       "      <td>1</td>\n",
       "    </tr>\n",
       "  </tbody>\n",
       "</table>\n",
       "</div>"
      ],
      "text/plain": [
       "                          film  year                            genere  \\\n",
       "0                    Toy Story  1995   [Animation, Children's, Comedy]   \n",
       "1                      Jumanji  1995  [Adventure, Children's, Fantasy]   \n",
       "2             Grumpier Old Men  1995                 [Comedy, Romance]   \n",
       "3            Waiting to Exhale  1995                   [Comedy, Drama]   \n",
       "4  Father of the Bride Part II  1995                          [Comedy]   \n",
       "\n",
       "   n_generes  \n",
       "0          3  \n",
       "1          3  \n",
       "2          2  \n",
       "3          2  \n",
       "4          1  "
      ]
     },
     "execution_count": 119,
     "metadata": {},
     "output_type": "execute_result"
    }
   ],
   "source": [
    "movies2.head() #veiem com queda"
   ]
  },
  {
   "cell_type": "code",
   "execution_count": 7,
   "metadata": {
    "ExecuteTime": {
     "end_time": "2021-01-20T16:38:46.211796Z",
     "start_time": "2021-01-20T16:38:46.205812Z"
    },
    "scrolled": false
   },
   "outputs": [
    {
     "data": {
      "text/html": [
       "<div>\n",
       "<style scoped>\n",
       "    .dataframe tbody tr th:only-of-type {\n",
       "        vertical-align: middle;\n",
       "    }\n",
       "\n",
       "    .dataframe tbody tr th {\n",
       "        vertical-align: top;\n",
       "    }\n",
       "\n",
       "    .dataframe thead th {\n",
       "        text-align: right;\n",
       "    }\n",
       "</style>\n",
       "<table border=\"1\" class=\"dataframe\">\n",
       "  <thead>\n",
       "    <tr style=\"text-align: right;\">\n",
       "      <th></th>\n",
       "      <th>year</th>\n",
       "      <th>n_generes</th>\n",
       "    </tr>\n",
       "  </thead>\n",
       "  <tbody>\n",
       "    <tr>\n",
       "      <th>count</th>\n",
       "      <td>3883.000000</td>\n",
       "      <td>3883.000000</td>\n",
       "    </tr>\n",
       "    <tr>\n",
       "      <th>mean</th>\n",
       "      <td>1986.066959</td>\n",
       "      <td>1.650270</td>\n",
       "    </tr>\n",
       "    <tr>\n",
       "      <th>std</th>\n",
       "      <td>16.895690</td>\n",
       "      <td>0.804589</td>\n",
       "    </tr>\n",
       "    <tr>\n",
       "      <th>min</th>\n",
       "      <td>1919.000000</td>\n",
       "      <td>1.000000</td>\n",
       "    </tr>\n",
       "    <tr>\n",
       "      <th>25%</th>\n",
       "      <td>1982.000000</td>\n",
       "      <td>1.000000</td>\n",
       "    </tr>\n",
       "    <tr>\n",
       "      <th>50%</th>\n",
       "      <td>1994.000000</td>\n",
       "      <td>1.000000</td>\n",
       "    </tr>\n",
       "    <tr>\n",
       "      <th>75%</th>\n",
       "      <td>1997.000000</td>\n",
       "      <td>2.000000</td>\n",
       "    </tr>\n",
       "    <tr>\n",
       "      <th>max</th>\n",
       "      <td>2000.000000</td>\n",
       "      <td>6.000000</td>\n",
       "    </tr>\n",
       "  </tbody>\n",
       "</table>\n",
       "</div>"
      ],
      "text/plain": [
       "              year    n_generes\n",
       "count  3883.000000  3883.000000\n",
       "mean   1986.066959     1.650270\n",
       "std      16.895690     0.804589\n",
       "min    1919.000000     1.000000\n",
       "25%    1982.000000     1.000000\n",
       "50%    1994.000000     1.000000\n",
       "75%    1997.000000     2.000000\n",
       "max    2000.000000     6.000000"
      ]
     },
     "execution_count": 7,
     "metadata": {},
     "output_type": "execute_result"
    }
   ],
   "source": [
    "movies2.describe() #com màxim, una pel·lícula s'ha classificat en 6 gèneres"
   ]
  },
  {
   "cell_type": "code",
   "execution_count": 8,
   "metadata": {},
   "outputs": [
    {
     "data": {
      "text/plain": [
       "film         0\n",
       "year         0\n",
       "genere       0\n",
       "n_generes    0\n",
       "dtype: int64"
      ]
     },
     "execution_count": 8,
     "metadata": {},
     "output_type": "execute_result"
    }
   ],
   "source": [
    "movies2.isna().sum()"
   ]
  },
  {
   "cell_type": "code",
   "execution_count": 9,
   "metadata": {},
   "outputs": [
    {
     "data": {
      "text/plain": [
       "3841"
      ]
     },
     "execution_count": 9,
     "metadata": {},
     "output_type": "execute_result"
    }
   ],
   "source": [
    "movies2.film.nunique() #com que surt una mida diferent del total, hi ha pel·lícules repetides"
   ]
  },
  {
   "cell_type": "markdown",
   "metadata": {},
   "source": [
    "### <span style=color:darkblue>1.2. GRÀFICS DE DISPERSIÓ</span>"
   ]
  },
  {
   "cell_type": "markdown",
   "metadata": {},
   "source": [
    "En les dades de què es disposa, només hi ha dues variables numèriques:"
   ]
  },
  {
   "cell_type": "code",
   "execution_count": 10,
   "metadata": {},
   "outputs": [
    {
     "data": {
      "image/png": "[encoded data removed]",
      "text/plain": [
       "<Figure size 432x288 with 1 Axes>"
      ]
     },
     "metadata": {
      "needs_background": "light"
     },
     "output_type": "display_data"
    }
   ],
   "source": [
    "# Observar la relació entre les variables \"fed_spend\" i \"poverty\"\n",
    "x = movies2.n_generes\n",
    "y = movies2.year\n",
    "\n",
    "# Plot\n",
    "plt.axis([0, 6, 1900, 2000])\n",
    "colors = 'Blue' #color dels marcadors\n",
    "area = np.pi*5 #mida dels marcadors\n",
    "a = 0.4 #opacitat dels marcadors; per poder veure la superposició/densitat dels punts\n",
    "plt.scatter(x, y, s=area, c=colors, alpha=a, edgecolors='black')\n",
    "plt.grid(linestyle='--',alpha = 0.4)\n",
    "\n",
    "plt.title('Federal Spending vs Poverty by County')\n",
    "plt.xlabel('Federal Spending per Capita')\n",
    "plt.ylabel('Poverty Rate (Percent)')\n",
    "plt.show()"
   ]
  },
  {
   "cell_type": "markdown",
   "metadata": {},
   "source": [
    "### <span style=color:darkblue>1.3. MATRIX PLOT</span>"
   ]
  },
  {
   "cell_type": "code",
   "execution_count": 11,
   "metadata": {
    "ExecuteTime": {
     "end_time": "2021-01-20T17:22:39.511793Z",
     "start_time": "2021-01-20T17:22:26.306937Z"
    },
    "scrolled": true
   },
   "outputs": [
    {
     "data": {
      "text/plain": [
       "<seaborn.axisgrid.PairGrid at 0x83d4cf5550>"
      ]
     },
     "execution_count": 11,
     "metadata": {},
     "output_type": "execute_result"
    },
    {
     "data": {
      "image/png": "[encoded data removed]",
      "text/plain": [
       "<Figure size 360x360 with 6 Axes>"
      ]
     },
     "metadata": {
      "needs_background": "light"
     },
     "output_type": "display_data"
    }
   ],
   "source": [
    "# Matrix Plot: en aquest cas només hi ha dues variables numèriques\n",
    "sns.pairplot(movies2, diag_kind='hist', plot_kws={'alpha': 0.2})"
   ]
  },
  {
   "cell_type": "code",
   "execution_count": 12,
   "metadata": {},
   "outputs": [
    {
     "data": {
      "text/plain": [
       "Text(0.5, 1.0, '')"
      ]
     },
     "execution_count": 12,
     "metadata": {},
     "output_type": "execute_result"
    },
    {
     "data": {
      "image/png": "[encoded data removed]",
      "text/plain": [
       "<Figure size 432x288 with 1 Axes>"
      ]
     },
     "metadata": {
      "needs_background": "light"
     },
     "output_type": "display_data"
    }
   ],
   "source": [
    "movies2.hist(['year'], bins=2000-1919+1)#posem una caixa per any\n",
    "plt.ylabel('Frequency')\n",
    "plt.xlabel('Year')\n",
    "plt.title('')"
   ]
  },
  {
   "cell_type": "code",
   "execution_count": 13,
   "metadata": {},
   "outputs": [
    {
     "data": {
      "text/plain": [
       "Text(0.5, 1.0, '')"
      ]
     },
     "execution_count": 13,
     "metadata": {},
     "output_type": "execute_result"
    },
    {
     "data": {
      "image/png": "[encoded data removed]",
      "text/plain": [
       "<Figure size 432x288 with 1 Axes>"
      ]
     },
     "metadata": {
      "needs_background": "light"
     },
     "output_type": "display_data"
    }
   ],
   "source": [
    "movies2.hist(['n_generes'], bins=6)\n",
    "plt.ylabel('Frequency')\n",
    "plt.xlabel('Nombre de Generes')\n",
    "plt.title('')"
   ]
  },
  {
   "cell_type": "markdown",
   "metadata": {},
   "source": [
    "En aquest cas té més sentit generear els histogrames per separat."
   ]
  },
  {
   "cell_type": "markdown",
   "metadata": {},
   "source": [
    "### <span style=color:darkblue>1.4. HISTOGRAMES I GRÀFICS DE CAIXA</span>"
   ]
  },
  {
   "cell_type": "code",
   "execution_count": 14,
   "metadata": {},
   "outputs": [
    {
     "data": {
      "image/png": "[encoded data removed]",
      "text/plain": [
       "<Figure size 432x288 with 1 Axes>"
      ]
     },
     "metadata": {
      "needs_background": "light"
     },
     "output_type": "display_data"
    }
   ],
   "source": [
    "import seaborn as sns\n",
    "ax1 = sns.boxplot(y = 'year', data = movies2, color='lightblue', fliersize=5,  orient='v', linewidth=1 , width=0.3)\n",
    "ax1 = sns.stripplot(y=movies2['year'], orient='v', color='darkblue', alpha=0.1)"
   ]
  },
  {
   "cell_type": "code",
   "execution_count": 15,
   "metadata": {},
   "outputs": [
    {
     "data": {
      "text/plain": [
       "count    3883.000000\n",
       "mean     1986.066959\n",
       "std        16.895690\n",
       "min      1919.000000\n",
       "25%      1982.000000\n",
       "50%      1994.000000\n",
       "75%      1997.000000\n",
       "max      2000.000000\n",
       "Name: year, dtype: float64"
      ]
     },
     "execution_count": 15,
     "metadata": {},
     "output_type": "execute_result"
    }
   ],
   "source": [
    "movies2['year'].describe()"
   ]
  },
  {
   "cell_type": "markdown",
   "metadata": {},
   "source": [
    "Amb l'histograma anterior ja s'intuia que la majoria de pel·lícules del data set es concentraven en la dècada dels 90, però amb el box plot es pot detallar millor aquesta observació:\n",
    " - Els anys 1997-2000 concentren el 25% de les pel·lícules.\n",
    " - Entre el 1994 i el 1997 hi ha un altre 25% dels films.\n",
    " - La dècada dels 80 és la segons més prolífica: entre el 1982 i el 1994 hi ha u altre 25% de les dades\n",
    " - El 25% restant es reparteix entre els anys 1919 i 1982 (63 anys)."
   ]
  },
  {
   "cell_type": "code",
   "execution_count": 16,
   "metadata": {},
   "outputs": [
    {
     "data": {
      "image/png": "[encoded data removed]",
      "text/plain": [
       "<Figure size 432x288 with 1 Axes>"
      ]
     },
     "metadata": {
      "needs_background": "light"
     },
     "output_type": "display_data"
    }
   ],
   "source": [
    "ax2 = sns.boxplot(y = 'n_generes', data = movies2, color='lightblue', fliersize=5,  orient='v', linewidth=1 , width=0.3);\n",
    "ax2 = sns.stripplot(y=movies2['n_generes'], orient='v', color='darkblue', alpha=0.1)"
   ]
  },
  {
   "cell_type": "code",
   "execution_count": 17,
   "metadata": {},
   "outputs": [
    {
     "data": {
      "text/plain": [
       "count    3883.000000\n",
       "mean        1.650270\n",
       "std         0.804589\n",
       "min         1.000000\n",
       "25%         1.000000\n",
       "50%         1.000000\n",
       "75%         2.000000\n",
       "max         6.000000\n",
       "Name: n_generes, dtype: float64"
      ]
     },
     "execution_count": 17,
     "metadata": {},
     "output_type": "execute_result"
    }
   ],
   "source": [
    "movies2['n_generes'].describe()"
   ]
  },
  {
   "cell_type": "markdown",
   "metadata": {},
   "source": [
    "Aquest cas és singular ja que min = Q1 = Q2. De fet, es pot comprovar quantes pel·lícules hi ha per nombre de categories:"
   ]
  },
  {
   "cell_type": "code",
   "execution_count": 19,
   "metadata": {},
   "outputs": [
    {
     "data": {
      "text/html": [
       "<div>\n",
       "<style scoped>\n",
       "    .dataframe tbody tr th:only-of-type {\n",
       "        vertical-align: middle;\n",
       "    }\n",
       "\n",
       "    .dataframe tbody tr th {\n",
       "        vertical-align: top;\n",
       "    }\n",
       "\n",
       "    .dataframe thead th {\n",
       "        text-align: right;\n",
       "    }\n",
       "</style>\n",
       "<table border=\"1\" class=\"dataframe\">\n",
       "  <thead>\n",
       "    <tr style=\"text-align: right;\">\n",
       "      <th></th>\n",
       "      <th>film</th>\n",
       "      <th>year</th>\n",
       "      <th>genere</th>\n",
       "    </tr>\n",
       "    <tr>\n",
       "      <th>n_generes</th>\n",
       "      <th></th>\n",
       "      <th></th>\n",
       "      <th></th>\n",
       "    </tr>\n",
       "  </thead>\n",
       "  <tbody>\n",
       "    <tr>\n",
       "      <th>1</th>\n",
       "      <td>2025</td>\n",
       "      <td>2025</td>\n",
       "      <td>2025</td>\n",
       "    </tr>\n",
       "    <tr>\n",
       "      <th>2</th>\n",
       "      <td>1322</td>\n",
       "      <td>1322</td>\n",
       "      <td>1322</td>\n",
       "    </tr>\n",
       "    <tr>\n",
       "      <th>3</th>\n",
       "      <td>421</td>\n",
       "      <td>421</td>\n",
       "      <td>421</td>\n",
       "    </tr>\n",
       "    <tr>\n",
       "      <th>4</th>\n",
       "      <td>100</td>\n",
       "      <td>100</td>\n",
       "      <td>100</td>\n",
       "    </tr>\n",
       "    <tr>\n",
       "      <th>5</th>\n",
       "      <td>14</td>\n",
       "      <td>14</td>\n",
       "      <td>14</td>\n",
       "    </tr>\n",
       "    <tr>\n",
       "      <th>6</th>\n",
       "      <td>1</td>\n",
       "      <td>1</td>\n",
       "      <td>1</td>\n",
       "    </tr>\n",
       "  </tbody>\n",
       "</table>\n",
       "</div>"
      ],
      "text/plain": [
       "           film  year  genere\n",
       "n_generes                    \n",
       "1          2025  2025    2025\n",
       "2          1322  1322    1322\n",
       "3           421   421     421\n",
       "4           100   100     100\n",
       "5            14    14      14\n",
       "6             1     1       1"
      ]
     },
     "execution_count": 19,
     "metadata": {},
     "output_type": "execute_result"
    }
   ],
   "source": [
    "movies2.groupby(['n_generes']).count()"
   ]
  },
  {
   "cell_type": "markdown",
   "metadata": {},
   "source": [
    "## <span style=color:darkblue>2. ESTADÍSTICA DESCRIPTIVA</span>\n",
    "### <span style=color:darkblue>2.1. MITJANA (_Mean, Average_)</span>"
   ]
  },
  {
   "cell_type": "markdown",
   "metadata": {},
   "source": [
    "The <span style=color:blue><b>mean</b></span>, sometimes called the <span style=color:blue><b>average</b></span>, is a common way to measure the <span style=color:blue><b>center of a distribution of data</b></span>.\n",
    "\n",
    "* The <span style=color:blue><b>sample mean</b></span> is often labeled <span style=color:blue><b>$\\bar{x}$</b></span>.\n",
    "\n",
    "* The <span style=color:blue><b><u>Population mean</u></b></span> has a special label :  <span style=color:blue>$\\mu$</span>. \n",
    "$%$   The symbol <span style=color:blue>$\\mu$</span> is the $Greek$ letter <span style=color:blue>$mu$</span> and represents the <span style=color:blue>average/mean of all observations in the <b>Population</b></span>.   \n",
    "Sometimes a subscript, such as <span style=color:blue><b>$_x$</b></span>, is used to represent which variable the <span style=color:blue><b>population mean</b></span> refers to, e.g. <span style=color:blue><b>$\\mu_x$</b></span>\n",
    "</div>"
   ]
  },
  {
   "cell_type": "markdown",
   "metadata": {},
   "source": [
    "\\begin{align*}\\bar{x}\\:=\\:\\frac{x_1\\:+\\:x_2\\:+\\:· · ·\\:+\\:x_n}{n}\\end{align*}   "
   ]
  },
  {
   "cell_type": "markdown",
   "metadata": {
    "solution2": "hidden",
    "solution2_first": true
   },
   "source": [
    "<span style=color:red><b><u>EXERCISE - 3.1</u></b></span> \n",
    "\n",
    "* What does $x_1$ correspond to ?,   \n",
    "* and **$x_2$** ?   \n",
    "* Can you infer a general meaning to what $x_i$ might represent?\n",
    "* What was $n$ in this sample (county)?"
   ]
  },
  {
   "cell_type": "markdown",
   "metadata": {
    "solution2": "hidden"
   },
   "source": [
    "<span style=color:green><b><u>SOLUTION - 3.1</u></b></span> "
   ]
  },
  {
   "cell_type": "code",
   "execution_count": 20,
   "metadata": {},
   "outputs": [
    {
     "name": "stdout",
     "output_type": "stream",
     "text": [
      "x1 =  1995\n",
      "x2 =  1995\n",
      "en general: xi =  movies2['year'][i-1]\n",
      "n =  3883\n"
     ]
    }
   ],
   "source": [
    "# si es continua utilitzant la variable \"year\":\n",
    "print('x1 = ',movies2['year'][0])\n",
    "print('x2 = ',movies2['year'][1])\n",
    "print('en general: xi = ',\"movies2['year'][i-1]\")\n",
    "print('n = ',movies2['year'].size)"
   ]
  },
  {
   "cell_type": "markdown",
   "metadata": {},
   "source": [
    "### <span style=color:darkblue>2.2. VARIÀNCIA</span>"
   ]
  },
  {
   "cell_type": "markdown",
   "metadata": {},
   "source": [
    "The <span style=color:blue><b>mean</b></span> was introduced as a method to describe the <span style=color:blue>center of a data set</span>, but the <span style=color:blue><b><u>variability in the data</u></b></span> is also <b>important</b>. We introduce <span style=color:blue><b><u>two measures of variability</u></b></span>: \n",
    "\n",
    " * the <span style=color:blue><b><u>Variance</u></b></span>. It is roughly the <span style=color:blue>average squared distance</span> from the <b>mean</b>.\n",
    " \n",
    " * and the <span style=color:blue><b><u>Standard Deviation</u></b></span>. The <b>Standard Deviation</b> is defined as the <b>square root</b> of the <span style=color:blue><b>Variance</b></span>. is useful when considering how close the data are to the <b>Mean</b>.   \n",
    "\n",
    "The <span style=color:blue><b>Standard Deviation</b></span> describes <b>how far away</b> the typical <b>observation</b> is from the <span style=color:blue>mean</span>. We call the <span style=color:blue><em>distance of an observation from its mean</em></span> its <span style=color:blue><b><u>Deviation</u></b></span>. \n",
    "\n",
    "\\begin{align*}D_i = x_i\\:−\\:\\bar{x}\\end{align*}\n",
    "\n",
    "- sample variance</b></span>, denoted by <span style=color:blue><b>$s^2$</b></span>. \n",
    "</div>\n",
    "\n",
    "\\begin{align*}s^2\\:=\\:\\frac{(x_1\\:−\\:\\bar{x})^2 + (x_2\\:−\\:\\bar{x})^2 +  · · · + (x_n\\:−\\:\\bar{x})^2}{n − 1}\\end{align*}\n",
    "\n",
    "- sample deviation</b></span>, denoted by <span style=color:blue><b>$s$</b></span>. \n",
    "</div>  \n",
    "  \n",
    "\\begin{align*}s = \\sqrt{s^2}\\end{align*}   \n",
    "\n",
    "Formulas and methods used to compute the <b>Variance</b> and <b>Standard Deviation</b> for a <b>Population</b> are similar to those used for a <b>sample</b><i> (The only difference is that the <b>Population Variance</b> has a division by $n$ instead of $n - 1$ )</i>.   \n",
    "Like the <b>Mean</b>, the <b>Population</b> values have special symbols : \n",
    "- population variance </b></span>, denoted by <span style=color:blue><b>$\\sigma^2$</b></span>.\n",
    "\n",
    "\\begin{align*}\\sigma^2\\:=\\:\\frac{(x_1\\:−\\:\\bar{x})^2 + (x_2\\:−\\:\\bar{x})^2 +  · · · + (x_n\\:−\\:\\bar{x})^2}{n}\\end{align*}\n",
    "\n",
    "- population standard deviation </b></span>, denoted by <span style=color:blue><b>$\\sigma$</b></span>.\n",
    "\n",
    "\\begin{align*}\\sigma = \\sqrt{\\sigma^2}\\end{align*}   "
   ]
  },
  {
   "cell_type": "code",
   "execution_count": 21,
   "metadata": {
    "ExecuteTime": {
     "end_time": "2020-10-21T15:39:20.490094Z",
     "start_time": "2020-10-21T15:39:20.482114Z"
    }
   },
   "outputs": [
    {
     "data": {
      "text/plain": [
       "16.895690157525298"
      ]
     },
     "execution_count": 21,
     "metadata": {},
     "output_type": "execute_result"
    }
   ],
   "source": [
    "year_std = movies2.year.std() #desviació estàndard de la variable \"income\"\n",
    "year_std"
   ]
  },
  {
   "cell_type": "code",
   "execution_count": 22,
   "metadata": {},
   "outputs": [
    {
     "data": {
      "text/plain": [
       "285.4643458990972"
      ]
     },
     "execution_count": 22,
     "metadata": {},
     "output_type": "execute_result"
    }
   ],
   "source": [
    "year_var = movies2.year.var() #variància de la variable \"income\"\n",
    "year_var"
   ]
  },
  {
   "cell_type": "code",
   "execution_count": 23,
   "metadata": {},
   "outputs": [
    {
     "data": {
      "text/plain": [
       "16.895690157525298"
      ]
     },
     "execution_count": 23,
     "metadata": {},
     "output_type": "execute_result"
    }
   ],
   "source": [
    "np.sqrt(movies2.year.var()) #càlcul indirecte de la variància de la variable \"income\""
   ]
  },
  {
   "cell_type": "markdown",
   "metadata": {},
   "source": [
    "### <span style=color:darkBLUE>2.3. DESVIACIÓ ESTÀNDARD</span>"
   ]
  },
  {
   "cell_type": "markdown",
   "metadata": {
    "solution2": "hidden",
    "solution2_first": true
   },
   "source": [
    "<span style=color:red><b><u>EXERCISE - 3.7</u></b></span> \n",
    "\n",
    "Describe the <b>distribution</b> of the a variable using an histogram. \n",
    "The description should incorporate the center, variability, and shape of the distribution, and it should also be placed in context. Also note any especially unusual cases."
   ]
  },
  {
   "cell_type": "code",
   "execution_count": 26,
   "metadata": {},
   "outputs": [
    {
     "data": {
      "image/png": "[encoded data removed]",
      "text/plain": [
       "<Figure size 432x288 with 1 Axes>"
      ]
     },
     "metadata": {
      "needs_background": "light"
     },
     "output_type": "display_data"
    }
   ],
   "source": [
    "movies2.hist(['year'], bins=2000-1919+1)\n",
    "plt.ylabel('Frequency')\n",
    "plt.xlabel('Year')\n",
    "plt.title('')\n",
    "plt.grid(axis='x')\n",
    "year_mean = movies2['year'].mean()\n",
    "for n in range(-1,5):\n",
    "    if n == 0:\n",
    "        plt.axvline(year_mean, color='r', linewidth=1.5);\n",
    "    else:\n",
    "        plt.axvline(year_mean-n*year_std, color='c', linestyle='dashed', linewidth=1);\n",
    "plt.axvline(movies2['year'].min(), color='r',linewidth=1);\n",
    "plt.axvline(movies2['year'].max(), color='r',linewidth=1);\n",
    "moda = movies2['year'].mode()\n",
    "for m in moda:\n",
    "    plt.axvline(m, color='y', linewidth=1.5);\n",
    "plt.axvline(movies2['year'].median(), color='g',linewidth=1.5);"
   ]
  },
  {
   "cell_type": "code",
   "execution_count": 29,
   "metadata": {},
   "outputs": [
    {
     "data": {
      "text/plain": [
       "1986.0669585372134"
      ]
     },
     "execution_count": 29,
     "metadata": {},
     "output_type": "execute_result"
    }
   ],
   "source": [
    "year_mean"
   ]
  },
  {
   "cell_type": "code",
   "execution_count": 30,
   "metadata": {
    "scrolled": true
   },
   "outputs": [
    {
     "data": {
      "text/plain": [
       "0    1996\n",
       "dtype: int64"
      ]
     },
     "execution_count": 30,
     "metadata": {},
     "output_type": "execute_result"
    }
   ],
   "source": [
    "movies2['year'].mode()"
   ]
  },
  {
   "cell_type": "code",
   "execution_count": 34,
   "metadata": {},
   "outputs": [
    {
     "name": "stdout",
     "output_type": "stream",
     "text": [
      "Min = 1919 \n",
      "Moda 1 = 0    1996\n",
      "dtype: int64 \n",
      "Mitjana =  1986 \n",
      "Max = 2000\n"
     ]
    }
   ],
   "source": [
    "print('Min =', movies2['year'].min(),'\\nModa 1 =', moda, '\\nMitjana = ', round(year_mean),'\\nMax =', movies2['year'].max())"
   ]
  },
  {
   "cell_type": "markdown",
   "metadata": {},
   "source": [
    "La distribució de l'any de la pel·lícula és unimodal i té asimetria a la dreta, sent-ne la mitjana l'any 1986. La desviació estàndard és de 285.46, relativament alta.\n",
    "El punt més allunyat es troba a l'any 2000, a menys d'1 sigma de la mitjana. Per la banda contrària, el valor mínim es troba al límit de -4 sigma. "
   ]
  },
  {
   "cell_type": "markdown",
   "metadata": {},
   "source": [
    "### <span style=color:darkBLUE>2.4. BOX PLOTS</span>"
   ]
  },
  {
   "cell_type": "markdown",
   "metadata": {},
   "source": [
    "A <span style=color:blue>Box Plot</span> summarizes a dataset using <span style=color:blue><b><i>five statistics</i></b></span> while also plotting <span style=color:blue>unusual observations - <b>Anomalies or Outliers</b></span>."
   ]
  },
  {
   "cell_type": "markdown",
   "metadata": {},
   "source": [
    "### <span style=color:darkred>Quartiles, and the Median</span>"
   ]
  },
  {
   "cell_type": "markdown",
   "metadata": {
    "ExecuteTime": {
     "end_time": "2021-01-20T17:46:44.546946Z",
     "start_time": "2021-01-20T17:46:44.402325Z"
    }
   },
   "source": [
    "Ja s'ha realitzat anteriorment l'estudi de quartils."
   ]
  },
  {
   "cell_type": "markdown",
   "metadata": {
    "solution2": "hidden",
    "solution2_first": true
   },
   "source": [
    "<span style=color:red><b><u>EXERCISE - 3.8</u></b></span> \n",
    "\n",
    "1. What percent of the data fall between Q1 and the median?\n",
    "2. What percent is between the median and Q3?"
   ]
  },
  {
   "cell_type": "markdown",
   "metadata": {},
   "source": [
    "<div class=\"alert alert-block alert-info\"><font size=\"3\"><b>Visualització gràfica de Múltiples variables amb el data set county.txt</u></b></center></font>\n",
    "\n",
    "<span style=color:darkBLUE>**Exercici 3**: </span>\n",
    "Mostreu la vostra creativitat. Què creieu rellevant mostrar del dataset \"movies.dat\" del exercici anterior? Feu una o dues representacions gràfiques i justifiqueu la seva elecció."
   ]
  },
  {
   "cell_type": "markdown",
   "metadata": {},
   "source": [
    "### <span style=color:darkBLUE>3.1. CATEGORIES</span>"
   ]
  },
  {
   "cell_type": "markdown",
   "metadata": {},
   "source": [
    "El primer que es pot afegir sobre l'exercici anterior és treballar en les **categories**:"
   ]
  },
  {
   "cell_type": "code",
   "execution_count": 42,
   "metadata": {},
   "outputs": [
    {
     "data": {
      "text/plain": [
       "['Animation',\n",
       " \"Children's\",\n",
       " 'Comedy',\n",
       " 'Adventure',\n",
       " 'Fantasy',\n",
       " 'Romance',\n",
       " 'Drama',\n",
       " 'Action',\n",
       " 'Crime',\n",
       " 'Thriller',\n",
       " 'Horror',\n",
       " 'Sci-Fi',\n",
       " 'Documentary',\n",
       " 'War',\n",
       " 'Musical',\n",
       " 'Mystery',\n",
       " 'Film-Noir',\n",
       " 'Western']"
      ]
     },
     "execution_count": 42,
     "metadata": {},
     "output_type": "execute_result"
    }
   ],
   "source": [
    "llista_cat = [] #vull saber quines categories de pel·lícula es poden trobar a la variable \"genere\"\n",
    "for register in movies2[\"genere\"]:\n",
    "    for cat in register:\n",
    "        if not(cat in llista_cat):\n",
    "            llista_cat.append(cat)\n",
    "llista_cat"
   ]
  },
  {
   "cell_type": "code",
   "execution_count": 56,
   "metadata": {},
   "outputs": [
    {
     "data": {
      "text/plain": [
       "18"
      ]
     },
     "execution_count": 56,
     "metadata": {},
     "output_type": "execute_result"
    }
   ],
   "source": [
    "len(llista_cat) # en total n'hi ha:"
   ]
  },
  {
   "cell_type": "markdown",
   "metadata": {},
   "source": [
    "<span style=color:darkBLUE>**Pot ser interessant observar:**</span>\n",
    "- Si algun genere ha crescut o minvat en popularitat al llarg dels anys\n",
    "- Si s'ha tornat més difícil categoritzar les pel·lícules, és a dir, si el nombre de categories atribuides a cada pel·lícula ha augmentat amb els anys o no"
   ]
  },
  {
   "cell_type": "code",
   "execution_count": 175,
   "metadata": {},
   "outputs": [],
   "source": [
    "# Per fer això, primer caldria crear una variable per cada categoria i, \n",
    "# segon, afegiria una variable per la dècada, ja que facilitarà veure els resultats\n",
    "\n",
    "for cat in llista_cat:\n",
    "    recompte = []\n",
    "    for register in movies2[\"genere\"]:\n",
    "        if cat in register:\n",
    "            recompte.append(1)\n",
    "        else:\n",
    "            recompte.append(0)\n",
    "    movies2[cat] = pd.Series(recompte)\n",
    "        \n",
    "def calcul_decada(x):\n",
    "    n = int((x-1900)/10)*10 + 1900\n",
    "    return n\n",
    "movies2[\"decada\"] = movies2[\"year\"].apply(calcul_decada)"
   ]
  },
  {
   "cell_type": "code",
   "execution_count": 176,
   "metadata": {},
   "outputs": [
    {
     "data": {
      "text/html": [
       "<div>\n",
       "<style scoped>\n",
       "    .dataframe tbody tr th:only-of-type {\n",
       "        vertical-align: middle;\n",
       "    }\n",
       "\n",
       "    .dataframe tbody tr th {\n",
       "        vertical-align: top;\n",
       "    }\n",
       "\n",
       "    .dataframe thead th {\n",
       "        text-align: right;\n",
       "    }\n",
       "</style>\n",
       "<table border=\"1\" class=\"dataframe\">\n",
       "  <thead>\n",
       "    <tr style=\"text-align: right;\">\n",
       "      <th></th>\n",
       "      <th>film</th>\n",
       "      <th>year</th>\n",
       "      <th>genere</th>\n",
       "      <th>n_generes</th>\n",
       "      <th>Animation</th>\n",
       "      <th>Children's</th>\n",
       "      <th>Comedy</th>\n",
       "      <th>Adventure</th>\n",
       "      <th>Fantasy</th>\n",
       "      <th>Romance</th>\n",
       "      <th>...</th>\n",
       "      <th>Thriller</th>\n",
       "      <th>Horror</th>\n",
       "      <th>Sci-Fi</th>\n",
       "      <th>Documentary</th>\n",
       "      <th>War</th>\n",
       "      <th>Musical</th>\n",
       "      <th>Mystery</th>\n",
       "      <th>Film-Noir</th>\n",
       "      <th>Western</th>\n",
       "      <th>decada</th>\n",
       "    </tr>\n",
       "  </thead>\n",
       "  <tbody>\n",
       "    <tr>\n",
       "      <th>1055</th>\n",
       "      <td>Murder, My Sweet</td>\n",
       "      <td>1944</td>\n",
       "      <td>[Film-Noir, Thriller]</td>\n",
       "      <td>2</td>\n",
       "      <td>0</td>\n",
       "      <td>0</td>\n",
       "      <td>0</td>\n",
       "      <td>0</td>\n",
       "      <td>0</td>\n",
       "      <td>0</td>\n",
       "      <td>...</td>\n",
       "      <td>1</td>\n",
       "      <td>0</td>\n",
       "      <td>0</td>\n",
       "      <td>0</td>\n",
       "      <td>0</td>\n",
       "      <td>0</td>\n",
       "      <td>0</td>\n",
       "      <td>1</td>\n",
       "      <td>0</td>\n",
       "      <td>1940</td>\n",
       "    </tr>\n",
       "    <tr>\n",
       "      <th>1056</th>\n",
       "      <td>Macao</td>\n",
       "      <td>1952</td>\n",
       "      <td>[Adventure]</td>\n",
       "      <td>1</td>\n",
       "      <td>0</td>\n",
       "      <td>0</td>\n",
       "      <td>0</td>\n",
       "      <td>1</td>\n",
       "      <td>0</td>\n",
       "      <td>0</td>\n",
       "      <td>...</td>\n",
       "      <td>0</td>\n",
       "      <td>0</td>\n",
       "      <td>0</td>\n",
       "      <td>0</td>\n",
       "      <td>0</td>\n",
       "      <td>0</td>\n",
       "      <td>0</td>\n",
       "      <td>0</td>\n",
       "      <td>0</td>\n",
       "      <td>1950</td>\n",
       "    </tr>\n",
       "    <tr>\n",
       "      <th>1057</th>\n",
       "      <td>For the Moment</td>\n",
       "      <td>1994</td>\n",
       "      <td>[Romance, War]</td>\n",
       "      <td>2</td>\n",
       "      <td>0</td>\n",
       "      <td>0</td>\n",
       "      <td>0</td>\n",
       "      <td>0</td>\n",
       "      <td>0</td>\n",
       "      <td>1</td>\n",
       "      <td>...</td>\n",
       "      <td>0</td>\n",
       "      <td>0</td>\n",
       "      <td>0</td>\n",
       "      <td>0</td>\n",
       "      <td>1</td>\n",
       "      <td>0</td>\n",
       "      <td>0</td>\n",
       "      <td>0</td>\n",
       "      <td>0</td>\n",
       "      <td>1990</td>\n",
       "    </tr>\n",
       "    <tr>\n",
       "      <th>1058</th>\n",
       "      <td>Willy Wonka and the Chocolate Factory</td>\n",
       "      <td>1971</td>\n",
       "      <td>[Adventure, Children's, Comedy, Fantasy]</td>\n",
       "      <td>4</td>\n",
       "      <td>0</td>\n",
       "      <td>1</td>\n",
       "      <td>1</td>\n",
       "      <td>1</td>\n",
       "      <td>1</td>\n",
       "      <td>0</td>\n",
       "      <td>...</td>\n",
       "      <td>0</td>\n",
       "      <td>0</td>\n",
       "      <td>0</td>\n",
       "      <td>0</td>\n",
       "      <td>0</td>\n",
       "      <td>0</td>\n",
       "      <td>0</td>\n",
       "      <td>0</td>\n",
       "      <td>0</td>\n",
       "      <td>1970</td>\n",
       "    </tr>\n",
       "    <tr>\n",
       "      <th>1059</th>\n",
       "      <td>Sexual Life of the Belgians, The</td>\n",
       "      <td>1994</td>\n",
       "      <td>[Comedy]</td>\n",
       "      <td>1</td>\n",
       "      <td>0</td>\n",
       "      <td>0</td>\n",
       "      <td>1</td>\n",
       "      <td>0</td>\n",
       "      <td>0</td>\n",
       "      <td>0</td>\n",
       "      <td>...</td>\n",
       "      <td>0</td>\n",
       "      <td>0</td>\n",
       "      <td>0</td>\n",
       "      <td>0</td>\n",
       "      <td>0</td>\n",
       "      <td>0</td>\n",
       "      <td>0</td>\n",
       "      <td>0</td>\n",
       "      <td>0</td>\n",
       "      <td>1990</td>\n",
       "    </tr>\n",
       "    <tr>\n",
       "      <th>1060</th>\n",
       "      <td>Innocents, The</td>\n",
       "      <td>1961</td>\n",
       "      <td>[Thriller]</td>\n",
       "      <td>1</td>\n",
       "      <td>0</td>\n",
       "      <td>0</td>\n",
       "      <td>0</td>\n",
       "      <td>0</td>\n",
       "      <td>0</td>\n",
       "      <td>0</td>\n",
       "      <td>...</td>\n",
       "      <td>1</td>\n",
       "      <td>0</td>\n",
       "      <td>0</td>\n",
       "      <td>0</td>\n",
       "      <td>0</td>\n",
       "      <td>0</td>\n",
       "      <td>0</td>\n",
       "      <td>0</td>\n",
       "      <td>0</td>\n",
       "      <td>1960</td>\n",
       "    </tr>\n",
       "  </tbody>\n",
       "</table>\n",
       "<p>6 rows × 23 columns</p>\n",
       "</div>"
      ],
      "text/plain": [
       "                                       film  year  \\\n",
       "1055                       Murder, My Sweet  1944   \n",
       "1056                                  Macao  1952   \n",
       "1057                         For the Moment  1994   \n",
       "1058  Willy Wonka and the Chocolate Factory  1971   \n",
       "1059       Sexual Life of the Belgians, The  1994   \n",
       "1060                         Innocents, The  1961   \n",
       "\n",
       "                                        genere  n_generes  Animation  \\\n",
       "1055                     [Film-Noir, Thriller]          2          0   \n",
       "1056                               [Adventure]          1          0   \n",
       "1057                            [Romance, War]          2          0   \n",
       "1058  [Adventure, Children's, Comedy, Fantasy]          4          0   \n",
       "1059                                  [Comedy]          1          0   \n",
       "1060                                [Thriller]          1          0   \n",
       "\n",
       "      Children's  Comedy  Adventure  Fantasy  Romance  ...  Thriller  Horror  \\\n",
       "1055           0       0          0        0        0  ...         1       0   \n",
       "1056           0       0          1        0        0  ...         0       0   \n",
       "1057           0       0          0        0        1  ...         0       0   \n",
       "1058           1       1          1        1        0  ...         0       0   \n",
       "1059           0       1          0        0        0  ...         0       0   \n",
       "1060           0       0          0        0        0  ...         1       0   \n",
       "\n",
       "      Sci-Fi  Documentary  War  Musical  Mystery  Film-Noir  Western  decada  \n",
       "1055       0            0    0        0        0          1        0    1940  \n",
       "1056       0            0    0        0        0          0        0    1950  \n",
       "1057       0            0    1        0        0          0        0    1990  \n",
       "1058       0            0    0        0        0          0        0    1970  \n",
       "1059       0            0    0        0        0          0        0    1990  \n",
       "1060       0            0    0        0        0          0        0    1960  \n",
       "\n",
       "[6 rows x 23 columns]"
      ]
     },
     "execution_count": 176,
     "metadata": {},
     "output_type": "execute_result"
    }
   ],
   "source": [
    "movies2[1055:1061] #vegem com queda"
   ]
  },
  {
   "cell_type": "code",
   "execution_count": 244,
   "metadata": {
    "scrolled": true
   },
   "outputs": [
    {
     "data": {
      "text/html": [
       "<div>\n",
       "<style scoped>\n",
       "    .dataframe tbody tr th:only-of-type {\n",
       "        vertical-align: middle;\n",
       "    }\n",
       "\n",
       "    .dataframe tbody tr th {\n",
       "        vertical-align: top;\n",
       "    }\n",
       "\n",
       "    .dataframe thead th {\n",
       "        text-align: right;\n",
       "    }\n",
       "</style>\n",
       "<table border=\"1\" class=\"dataframe\">\n",
       "  <thead>\n",
       "    <tr style=\"text-align: right;\">\n",
       "      <th></th>\n",
       "      <th>Animation</th>\n",
       "      <th>Children's</th>\n",
       "      <th>Comedy</th>\n",
       "      <th>Adventure</th>\n",
       "      <th>Fantasy</th>\n",
       "      <th>Romance</th>\n",
       "      <th>Drama</th>\n",
       "      <th>Action</th>\n",
       "      <th>Crime</th>\n",
       "      <th>Thriller</th>\n",
       "      <th>Horror</th>\n",
       "      <th>Sci-Fi</th>\n",
       "      <th>Documentary</th>\n",
       "      <th>War</th>\n",
       "      <th>Musical</th>\n",
       "      <th>Mystery</th>\n",
       "      <th>Film-Noir</th>\n",
       "      <th>Western</th>\n",
       "    </tr>\n",
       "    <tr>\n",
       "      <th>decada</th>\n",
       "      <th></th>\n",
       "      <th></th>\n",
       "      <th></th>\n",
       "      <th></th>\n",
       "      <th></th>\n",
       "      <th></th>\n",
       "      <th></th>\n",
       "      <th></th>\n",
       "      <th></th>\n",
       "      <th></th>\n",
       "      <th></th>\n",
       "      <th></th>\n",
       "      <th></th>\n",
       "      <th></th>\n",
       "      <th></th>\n",
       "      <th></th>\n",
       "      <th></th>\n",
       "      <th></th>\n",
       "    </tr>\n",
       "  </thead>\n",
       "  <tbody>\n",
       "    <tr>\n",
       "      <th>1910</th>\n",
       "      <td>0</td>\n",
       "      <td>0</td>\n",
       "      <td>1</td>\n",
       "      <td>1</td>\n",
       "      <td>0</td>\n",
       "      <td>0</td>\n",
       "      <td>2</td>\n",
       "      <td>1</td>\n",
       "      <td>0</td>\n",
       "      <td>0</td>\n",
       "      <td>0</td>\n",
       "      <td>0</td>\n",
       "      <td>0</td>\n",
       "      <td>0</td>\n",
       "      <td>0</td>\n",
       "      <td>0</td>\n",
       "      <td>0</td>\n",
       "      <td>0</td>\n",
       "    </tr>\n",
       "    <tr>\n",
       "      <th>1920</th>\n",
       "      <td>0</td>\n",
       "      <td>0</td>\n",
       "      <td>13</td>\n",
       "      <td>1</td>\n",
       "      <td>0</td>\n",
       "      <td>2</td>\n",
       "      <td>14</td>\n",
       "      <td>1</td>\n",
       "      <td>1</td>\n",
       "      <td>2</td>\n",
       "      <td>1</td>\n",
       "      <td>1</td>\n",
       "      <td>0</td>\n",
       "      <td>2</td>\n",
       "      <td>1</td>\n",
       "      <td>0</td>\n",
       "      <td>0</td>\n",
       "      <td>0</td>\n",
       "    </tr>\n",
       "    <tr>\n",
       "      <th>1930</th>\n",
       "      <td>2</td>\n",
       "      <td>4</td>\n",
       "      <td>23</td>\n",
       "      <td>6</td>\n",
       "      <td>0</td>\n",
       "      <td>15</td>\n",
       "      <td>26</td>\n",
       "      <td>3</td>\n",
       "      <td>4</td>\n",
       "      <td>9</td>\n",
       "      <td>7</td>\n",
       "      <td>1</td>\n",
       "      <td>1</td>\n",
       "      <td>5</td>\n",
       "      <td>11</td>\n",
       "      <td>5</td>\n",
       "      <td>1</td>\n",
       "      <td>1</td>\n",
       "    </tr>\n",
       "    <tr>\n",
       "      <th>1940</th>\n",
       "      <td>11</td>\n",
       "      <td>13</td>\n",
       "      <td>22</td>\n",
       "      <td>6</td>\n",
       "      <td>0</td>\n",
       "      <td>14</td>\n",
       "      <td>44</td>\n",
       "      <td>2</td>\n",
       "      <td>8</td>\n",
       "      <td>17</td>\n",
       "      <td>14</td>\n",
       "      <td>1</td>\n",
       "      <td>0</td>\n",
       "      <td>11</td>\n",
       "      <td>14</td>\n",
       "      <td>9</td>\n",
       "      <td>17</td>\n",
       "      <td>7</td>\n",
       "    </tr>\n",
       "    <tr>\n",
       "      <th>1950</th>\n",
       "      <td>5</td>\n",
       "      <td>10</td>\n",
       "      <td>25</td>\n",
       "      <td>13</td>\n",
       "      <td>4</td>\n",
       "      <td>18</td>\n",
       "      <td>62</td>\n",
       "      <td>10</td>\n",
       "      <td>7</td>\n",
       "      <td>16</td>\n",
       "      <td>20</td>\n",
       "      <td>32</td>\n",
       "      <td>1</td>\n",
       "      <td>13</td>\n",
       "      <td>17</td>\n",
       "      <td>7</td>\n",
       "      <td>9</td>\n",
       "      <td>7</td>\n",
       "    </tr>\n",
       "    <tr>\n",
       "      <th>1960</th>\n",
       "      <td>5</td>\n",
       "      <td>20</td>\n",
       "      <td>41</td>\n",
       "      <td>16</td>\n",
       "      <td>2</td>\n",
       "      <td>10</td>\n",
       "      <td>69</td>\n",
       "      <td>17</td>\n",
       "      <td>6</td>\n",
       "      <td>24</td>\n",
       "      <td>26</td>\n",
       "      <td>13</td>\n",
       "      <td>1</td>\n",
       "      <td>13</td>\n",
       "      <td>19</td>\n",
       "      <td>5</td>\n",
       "      <td>2</td>\n",
       "      <td>16</td>\n",
       "    </tr>\n",
       "    <tr>\n",
       "      <th>1970</th>\n",
       "      <td>8</td>\n",
       "      <td>25</td>\n",
       "      <td>63</td>\n",
       "      <td>26</td>\n",
       "      <td>4</td>\n",
       "      <td>8</td>\n",
       "      <td>84</td>\n",
       "      <td>41</td>\n",
       "      <td>17</td>\n",
       "      <td>22</td>\n",
       "      <td>35</td>\n",
       "      <td>31</td>\n",
       "      <td>2</td>\n",
       "      <td>11</td>\n",
       "      <td>9</td>\n",
       "      <td>6</td>\n",
       "      <td>1</td>\n",
       "      <td>15</td>\n",
       "    </tr>\n",
       "    <tr>\n",
       "      <th>1980</th>\n",
       "      <td>14</td>\n",
       "      <td>31</td>\n",
       "      <td>200</td>\n",
       "      <td>78</td>\n",
       "      <td>24</td>\n",
       "      <td>54</td>\n",
       "      <td>211</td>\n",
       "      <td>110</td>\n",
       "      <td>21</td>\n",
       "      <td>55</td>\n",
       "      <td>112</td>\n",
       "      <td>66</td>\n",
       "      <td>9</td>\n",
       "      <td>31</td>\n",
       "      <td>12</td>\n",
       "      <td>12</td>\n",
       "      <td>4</td>\n",
       "      <td>3</td>\n",
       "    </tr>\n",
       "    <tr>\n",
       "      <th>1990</th>\n",
       "      <td>52</td>\n",
       "      <td>139</td>\n",
       "      <td>743</td>\n",
       "      <td>130</td>\n",
       "      <td>33</td>\n",
       "      <td>333</td>\n",
       "      <td>1036</td>\n",
       "      <td>299</td>\n",
       "      <td>139</td>\n",
       "      <td>322</td>\n",
       "      <td>120</td>\n",
       "      <td>121</td>\n",
       "      <td>105</td>\n",
       "      <td>55</td>\n",
       "      <td>30</td>\n",
       "      <td>61</td>\n",
       "      <td>10</td>\n",
       "      <td>19</td>\n",
       "    </tr>\n",
       "    <tr>\n",
       "      <th>2000</th>\n",
       "      <td>8</td>\n",
       "      <td>9</td>\n",
       "      <td>69</td>\n",
       "      <td>6</td>\n",
       "      <td>1</td>\n",
       "      <td>17</td>\n",
       "      <td>55</td>\n",
       "      <td>19</td>\n",
       "      <td>8</td>\n",
       "      <td>25</td>\n",
       "      <td>8</td>\n",
       "      <td>10</td>\n",
       "      <td>8</td>\n",
       "      <td>2</td>\n",
       "      <td>1</td>\n",
       "      <td>1</td>\n",
       "      <td>0</td>\n",
       "      <td>0</td>\n",
       "    </tr>\n",
       "  </tbody>\n",
       "</table>\n",
       "</div>"
      ],
      "text/plain": [
       "        Animation  Children's  Comedy  Adventure  Fantasy  Romance  Drama  \\\n",
       "decada                                                                      \n",
       "1910            0           0       1          1        0        0      2   \n",
       "1920            0           0      13          1        0        2     14   \n",
       "1930            2           4      23          6        0       15     26   \n",
       "1940           11          13      22          6        0       14     44   \n",
       "1950            5          10      25         13        4       18     62   \n",
       "1960            5          20      41         16        2       10     69   \n",
       "1970            8          25      63         26        4        8     84   \n",
       "1980           14          31     200         78       24       54    211   \n",
       "1990           52         139     743        130       33      333   1036   \n",
       "2000            8           9      69          6        1       17     55   \n",
       "\n",
       "        Action  Crime  Thriller  Horror  Sci-Fi  Documentary  War  Musical  \\\n",
       "decada                                                                       \n",
       "1910         1      0         0       0       0            0    0        0   \n",
       "1920         1      1         2       1       1            0    2        1   \n",
       "1930         3      4         9       7       1            1    5       11   \n",
       "1940         2      8        17      14       1            0   11       14   \n",
       "1950        10      7        16      20      32            1   13       17   \n",
       "1960        17      6        24      26      13            1   13       19   \n",
       "1970        41     17        22      35      31            2   11        9   \n",
       "1980       110     21        55     112      66            9   31       12   \n",
       "1990       299    139       322     120     121          105   55       30   \n",
       "2000        19      8        25       8      10            8    2        1   \n",
       "\n",
       "        Mystery  Film-Noir  Western  \n",
       "decada                               \n",
       "1910          0          0        0  \n",
       "1920          0          0        0  \n",
       "1930          5          1        1  \n",
       "1940          9         17        7  \n",
       "1950          7          9        7  \n",
       "1960          5          2       16  \n",
       "1970          6          1       15  \n",
       "1980         12          4        3  \n",
       "1990         61         10       19  \n",
       "2000          1          0        0  "
      ]
     },
     "execution_count": 244,
     "metadata": {},
     "output_type": "execute_result"
    }
   ],
   "source": [
    "#creo un df amb les dècades i el recompte de pel·lícules de cada categoria de gènere que els corresponen\n",
    "decada_genere = pd.DataFrame()\n",
    "\n",
    "for cat in llista_cat:\n",
    "    #print(cat)\n",
    "    s = movies2[[cat,\"decada\"]].groupby(\"decada\").sum()[cat]\n",
    "    s = pd.Series(s).transpose()\n",
    "    decada_genere[cat] = s\n",
    "\n",
    "decada_genere"
   ]
  },
  {
   "cell_type": "code",
   "execution_count": 245,
   "metadata": {
    "scrolled": true
   },
   "outputs": [
    {
     "data": {
      "text/html": [
       "<div>\n",
       "<style scoped>\n",
       "    .dataframe tbody tr th:only-of-type {\n",
       "        vertical-align: middle;\n",
       "    }\n",
       "\n",
       "    .dataframe tbody tr th {\n",
       "        vertical-align: top;\n",
       "    }\n",
       "\n",
       "    .dataframe thead th {\n",
       "        text-align: right;\n",
       "    }\n",
       "</style>\n",
       "<table border=\"1\" class=\"dataframe\">\n",
       "  <thead>\n",
       "    <tr style=\"text-align: right;\">\n",
       "      <th></th>\n",
       "      <th>Animation</th>\n",
       "      <th>Children's</th>\n",
       "      <th>Comedy</th>\n",
       "      <th>Adventure</th>\n",
       "      <th>Fantasy</th>\n",
       "      <th>Romance</th>\n",
       "      <th>Drama</th>\n",
       "      <th>Action</th>\n",
       "      <th>Crime</th>\n",
       "      <th>Thriller</th>\n",
       "      <th>Horror</th>\n",
       "      <th>Sci-Fi</th>\n",
       "      <th>Documentary</th>\n",
       "      <th>War</th>\n",
       "      <th>Musical</th>\n",
       "      <th>Mystery</th>\n",
       "      <th>Film-Noir</th>\n",
       "      <th>Western</th>\n",
       "    </tr>\n",
       "  </thead>\n",
       "  <tbody>\n",
       "    <tr>\n",
       "      <th>count</th>\n",
       "      <td>10.0</td>\n",
       "      <td>10.0</td>\n",
       "      <td>10.0</td>\n",
       "      <td>10.0</td>\n",
       "      <td>10.0</td>\n",
       "      <td>10.0</td>\n",
       "      <td>10.0</td>\n",
       "      <td>10.0</td>\n",
       "      <td>10.0</td>\n",
       "      <td>10.0</td>\n",
       "      <td>10.0</td>\n",
       "      <td>10.0</td>\n",
       "      <td>10.0</td>\n",
       "      <td>10.0</td>\n",
       "      <td>10.0</td>\n",
       "      <td>10.0</td>\n",
       "      <td>10.0</td>\n",
       "      <td>10.0</td>\n",
       "    </tr>\n",
       "    <tr>\n",
       "      <th>mean</th>\n",
       "      <td>10.0</td>\n",
       "      <td>25.0</td>\n",
       "      <td>120.0</td>\n",
       "      <td>28.0</td>\n",
       "      <td>7.0</td>\n",
       "      <td>47.0</td>\n",
       "      <td>160.0</td>\n",
       "      <td>50.0</td>\n",
       "      <td>21.0</td>\n",
       "      <td>49.0</td>\n",
       "      <td>34.0</td>\n",
       "      <td>28.0</td>\n",
       "      <td>13.0</td>\n",
       "      <td>14.0</td>\n",
       "      <td>11.0</td>\n",
       "      <td>11.0</td>\n",
       "      <td>4.0</td>\n",
       "      <td>7.0</td>\n",
       "    </tr>\n",
       "    <tr>\n",
       "      <th>std</th>\n",
       "      <td>15.0</td>\n",
       "      <td>41.0</td>\n",
       "      <td>226.0</td>\n",
       "      <td>42.0</td>\n",
       "      <td>12.0</td>\n",
       "      <td>102.0</td>\n",
       "      <td>313.0</td>\n",
       "      <td>93.0</td>\n",
       "      <td>42.0</td>\n",
       "      <td>97.0</td>\n",
       "      <td>44.0</td>\n",
       "      <td>39.0</td>\n",
       "      <td>33.0</td>\n",
       "      <td>17.0</td>\n",
       "      <td>9.0</td>\n",
       "      <td>18.0</td>\n",
       "      <td>6.0</td>\n",
       "      <td>7.0</td>\n",
       "    </tr>\n",
       "    <tr>\n",
       "      <th>min</th>\n",
       "      <td>0.0</td>\n",
       "      <td>0.0</td>\n",
       "      <td>1.0</td>\n",
       "      <td>1.0</td>\n",
       "      <td>0.0</td>\n",
       "      <td>0.0</td>\n",
       "      <td>2.0</td>\n",
       "      <td>1.0</td>\n",
       "      <td>0.0</td>\n",
       "      <td>0.0</td>\n",
       "      <td>0.0</td>\n",
       "      <td>0.0</td>\n",
       "      <td>0.0</td>\n",
       "      <td>0.0</td>\n",
       "      <td>0.0</td>\n",
       "      <td>0.0</td>\n",
       "      <td>0.0</td>\n",
       "      <td>0.0</td>\n",
       "    </tr>\n",
       "    <tr>\n",
       "      <th>25%</th>\n",
       "      <td>3.0</td>\n",
       "      <td>5.0</td>\n",
       "      <td>22.0</td>\n",
       "      <td>6.0</td>\n",
       "      <td>0.0</td>\n",
       "      <td>8.0</td>\n",
       "      <td>30.0</td>\n",
       "      <td>2.0</td>\n",
       "      <td>4.0</td>\n",
       "      <td>11.0</td>\n",
       "      <td>7.0</td>\n",
       "      <td>1.0</td>\n",
       "      <td>0.0</td>\n",
       "      <td>3.0</td>\n",
       "      <td>3.0</td>\n",
       "      <td>2.0</td>\n",
       "      <td>0.0</td>\n",
       "      <td>0.0</td>\n",
       "    </tr>\n",
       "    <tr>\n",
       "      <th>50%</th>\n",
       "      <td>6.0</td>\n",
       "      <td>12.0</td>\n",
       "      <td>33.0</td>\n",
       "      <td>10.0</td>\n",
       "      <td>2.0</td>\n",
       "      <td>14.0</td>\n",
       "      <td>58.0</td>\n",
       "      <td>14.0</td>\n",
       "      <td>8.0</td>\n",
       "      <td>20.0</td>\n",
       "      <td>17.0</td>\n",
       "      <td>12.0</td>\n",
       "      <td>1.0</td>\n",
       "      <td>11.0</td>\n",
       "      <td>12.0</td>\n",
       "      <td>6.0</td>\n",
       "      <td>2.0</td>\n",
       "      <td>5.0</td>\n",
       "    </tr>\n",
       "    <tr>\n",
       "      <th>75%</th>\n",
       "      <td>10.0</td>\n",
       "      <td>24.0</td>\n",
       "      <td>68.0</td>\n",
       "      <td>24.0</td>\n",
       "      <td>4.0</td>\n",
       "      <td>18.0</td>\n",
       "      <td>80.0</td>\n",
       "      <td>36.0</td>\n",
       "      <td>15.0</td>\n",
       "      <td>25.0</td>\n",
       "      <td>33.0</td>\n",
       "      <td>32.0</td>\n",
       "      <td>6.0</td>\n",
       "      <td>13.0</td>\n",
       "      <td>16.0</td>\n",
       "      <td>8.0</td>\n",
       "      <td>8.0</td>\n",
       "      <td>13.0</td>\n",
       "    </tr>\n",
       "    <tr>\n",
       "      <th>max</th>\n",
       "      <td>52.0</td>\n",
       "      <td>139.0</td>\n",
       "      <td>743.0</td>\n",
       "      <td>130.0</td>\n",
       "      <td>33.0</td>\n",
       "      <td>333.0</td>\n",
       "      <td>1036.0</td>\n",
       "      <td>299.0</td>\n",
       "      <td>139.0</td>\n",
       "      <td>322.0</td>\n",
       "      <td>120.0</td>\n",
       "      <td>121.0</td>\n",
       "      <td>105.0</td>\n",
       "      <td>55.0</td>\n",
       "      <td>30.0</td>\n",
       "      <td>61.0</td>\n",
       "      <td>17.0</td>\n",
       "      <td>19.0</td>\n",
       "    </tr>\n",
       "  </tbody>\n",
       "</table>\n",
       "</div>"
      ],
      "text/plain": [
       "       Animation  Children's  Comedy  Adventure  Fantasy  Romance   Drama  \\\n",
       "count       10.0        10.0    10.0       10.0     10.0     10.0    10.0   \n",
       "mean        10.0        25.0   120.0       28.0      7.0     47.0   160.0   \n",
       "std         15.0        41.0   226.0       42.0     12.0    102.0   313.0   \n",
       "min          0.0         0.0     1.0        1.0      0.0      0.0     2.0   \n",
       "25%          3.0         5.0    22.0        6.0      0.0      8.0    30.0   \n",
       "50%          6.0        12.0    33.0       10.0      2.0     14.0    58.0   \n",
       "75%         10.0        24.0    68.0       24.0      4.0     18.0    80.0   \n",
       "max         52.0       139.0   743.0      130.0     33.0    333.0  1036.0   \n",
       "\n",
       "       Action  Crime  Thriller  Horror  Sci-Fi  Documentary   War  Musical  \\\n",
       "count    10.0   10.0      10.0    10.0    10.0         10.0  10.0     10.0   \n",
       "mean     50.0   21.0      49.0    34.0    28.0         13.0  14.0     11.0   \n",
       "std      93.0   42.0      97.0    44.0    39.0         33.0  17.0      9.0   \n",
       "min       1.0    0.0       0.0     0.0     0.0          0.0   0.0      0.0   \n",
       "25%       2.0    4.0      11.0     7.0     1.0          0.0   3.0      3.0   \n",
       "50%      14.0    8.0      20.0    17.0    12.0          1.0  11.0     12.0   \n",
       "75%      36.0   15.0      25.0    33.0    32.0          6.0  13.0     16.0   \n",
       "max     299.0  139.0     322.0   120.0   121.0        105.0  55.0     30.0   \n",
       "\n",
       "       Mystery  Film-Noir  Western  \n",
       "count     10.0       10.0     10.0  \n",
       "mean      11.0        4.0      7.0  \n",
       "std       18.0        6.0      7.0  \n",
       "min        0.0        0.0      0.0  \n",
       "25%        2.0        0.0      0.0  \n",
       "50%        6.0        2.0      5.0  \n",
       "75%        8.0        8.0     13.0  \n",
       "max       61.0       17.0     19.0  "
      ]
     },
     "execution_count": 245,
     "metadata": {},
     "output_type": "execute_result"
    }
   ],
   "source": [
    "round(decada_genere.describe())"
   ]
  },
  {
   "cell_type": "code",
   "execution_count": 246,
   "metadata": {},
   "outputs": [
    {
     "data": {
      "text/html": [
       "<div>\n",
       "<style scoped>\n",
       "    .dataframe tbody tr th:only-of-type {\n",
       "        vertical-align: middle;\n",
       "    }\n",
       "\n",
       "    .dataframe tbody tr th {\n",
       "        vertical-align: top;\n",
       "    }\n",
       "\n",
       "    .dataframe thead th {\n",
       "        text-align: right;\n",
       "    }\n",
       "</style>\n",
       "<table border=\"1\" class=\"dataframe\">\n",
       "  <thead>\n",
       "    <tr style=\"text-align: right;\">\n",
       "      <th></th>\n",
       "      <th>Animation</th>\n",
       "      <th>Children's</th>\n",
       "      <th>Comedy</th>\n",
       "      <th>Adventure</th>\n",
       "      <th>Fantasy</th>\n",
       "      <th>Romance</th>\n",
       "      <th>Drama</th>\n",
       "      <th>Action</th>\n",
       "      <th>Crime</th>\n",
       "      <th>Thriller</th>\n",
       "      <th>Horror</th>\n",
       "      <th>Sci-Fi</th>\n",
       "      <th>Documentary</th>\n",
       "      <th>War</th>\n",
       "      <th>Musical</th>\n",
       "      <th>Mystery</th>\n",
       "      <th>Film-Noir</th>\n",
       "      <th>Western</th>\n",
       "    </tr>\n",
       "    <tr>\n",
       "      <th>decada</th>\n",
       "      <th></th>\n",
       "      <th></th>\n",
       "      <th></th>\n",
       "      <th></th>\n",
       "      <th></th>\n",
       "      <th></th>\n",
       "      <th></th>\n",
       "      <th></th>\n",
       "      <th></th>\n",
       "      <th></th>\n",
       "      <th></th>\n",
       "      <th></th>\n",
       "      <th></th>\n",
       "      <th></th>\n",
       "      <th></th>\n",
       "      <th></th>\n",
       "      <th></th>\n",
       "      <th></th>\n",
       "    </tr>\n",
       "  </thead>\n",
       "  <tbody>\n",
       "    <tr>\n",
       "      <th>1910</th>\n",
       "      <td>0</td>\n",
       "      <td>0</td>\n",
       "      <td>1</td>\n",
       "      <td>1</td>\n",
       "      <td>0</td>\n",
       "      <td>0</td>\n",
       "      <td>2</td>\n",
       "      <td>1</td>\n",
       "      <td>0</td>\n",
       "      <td>0</td>\n",
       "      <td>0</td>\n",
       "      <td>0</td>\n",
       "      <td>0</td>\n",
       "      <td>0</td>\n",
       "      <td>0</td>\n",
       "      <td>0</td>\n",
       "      <td>0</td>\n",
       "      <td>0</td>\n",
       "    </tr>\n",
       "    <tr>\n",
       "      <th>1920</th>\n",
       "      <td>0</td>\n",
       "      <td>0</td>\n",
       "      <td>13</td>\n",
       "      <td>1</td>\n",
       "      <td>0</td>\n",
       "      <td>2</td>\n",
       "      <td>14</td>\n",
       "      <td>1</td>\n",
       "      <td>1</td>\n",
       "      <td>2</td>\n",
       "      <td>1</td>\n",
       "      <td>1</td>\n",
       "      <td>0</td>\n",
       "      <td>2</td>\n",
       "      <td>1</td>\n",
       "      <td>0</td>\n",
       "      <td>0</td>\n",
       "      <td>0</td>\n",
       "    </tr>\n",
       "    <tr>\n",
       "      <th>1930</th>\n",
       "      <td>2</td>\n",
       "      <td>4</td>\n",
       "      <td>23</td>\n",
       "      <td>6</td>\n",
       "      <td>0</td>\n",
       "      <td>15</td>\n",
       "      <td>26</td>\n",
       "      <td>3</td>\n",
       "      <td>4</td>\n",
       "      <td>9</td>\n",
       "      <td>7</td>\n",
       "      <td>1</td>\n",
       "      <td>1</td>\n",
       "      <td>5</td>\n",
       "      <td>11</td>\n",
       "      <td>5</td>\n",
       "      <td>1</td>\n",
       "      <td>1</td>\n",
       "    </tr>\n",
       "    <tr>\n",
       "      <th>1940</th>\n",
       "      <td>11</td>\n",
       "      <td>13</td>\n",
       "      <td>22</td>\n",
       "      <td>6</td>\n",
       "      <td>0</td>\n",
       "      <td>14</td>\n",
       "      <td>44</td>\n",
       "      <td>2</td>\n",
       "      <td>8</td>\n",
       "      <td>17</td>\n",
       "      <td>14</td>\n",
       "      <td>1</td>\n",
       "      <td>0</td>\n",
       "      <td>11</td>\n",
       "      <td>14</td>\n",
       "      <td>9</td>\n",
       "      <td>17</td>\n",
       "      <td>7</td>\n",
       "    </tr>\n",
       "    <tr>\n",
       "      <th>1950</th>\n",
       "      <td>5</td>\n",
       "      <td>10</td>\n",
       "      <td>25</td>\n",
       "      <td>13</td>\n",
       "      <td>4</td>\n",
       "      <td>18</td>\n",
       "      <td>62</td>\n",
       "      <td>10</td>\n",
       "      <td>7</td>\n",
       "      <td>16</td>\n",
       "      <td>20</td>\n",
       "      <td>32</td>\n",
       "      <td>1</td>\n",
       "      <td>13</td>\n",
       "      <td>17</td>\n",
       "      <td>7</td>\n",
       "      <td>9</td>\n",
       "      <td>7</td>\n",
       "    </tr>\n",
       "    <tr>\n",
       "      <th>1960</th>\n",
       "      <td>5</td>\n",
       "      <td>20</td>\n",
       "      <td>41</td>\n",
       "      <td>16</td>\n",
       "      <td>2</td>\n",
       "      <td>10</td>\n",
       "      <td>69</td>\n",
       "      <td>17</td>\n",
       "      <td>6</td>\n",
       "      <td>24</td>\n",
       "      <td>26</td>\n",
       "      <td>13</td>\n",
       "      <td>1</td>\n",
       "      <td>13</td>\n",
       "      <td>19</td>\n",
       "      <td>5</td>\n",
       "      <td>2</td>\n",
       "      <td>16</td>\n",
       "    </tr>\n",
       "    <tr>\n",
       "      <th>1970</th>\n",
       "      <td>8</td>\n",
       "      <td>25</td>\n",
       "      <td>63</td>\n",
       "      <td>26</td>\n",
       "      <td>4</td>\n",
       "      <td>8</td>\n",
       "      <td>84</td>\n",
       "      <td>41</td>\n",
       "      <td>17</td>\n",
       "      <td>22</td>\n",
       "      <td>35</td>\n",
       "      <td>31</td>\n",
       "      <td>2</td>\n",
       "      <td>11</td>\n",
       "      <td>9</td>\n",
       "      <td>6</td>\n",
       "      <td>1</td>\n",
       "      <td>15</td>\n",
       "    </tr>\n",
       "    <tr>\n",
       "      <th>1980</th>\n",
       "      <td>14</td>\n",
       "      <td>31</td>\n",
       "      <td>200</td>\n",
       "      <td>78</td>\n",
       "      <td>24</td>\n",
       "      <td>54</td>\n",
       "      <td>211</td>\n",
       "      <td>110</td>\n",
       "      <td>21</td>\n",
       "      <td>55</td>\n",
       "      <td>112</td>\n",
       "      <td>66</td>\n",
       "      <td>9</td>\n",
       "      <td>31</td>\n",
       "      <td>12</td>\n",
       "      <td>12</td>\n",
       "      <td>4</td>\n",
       "      <td>3</td>\n",
       "    </tr>\n",
       "    <tr>\n",
       "      <th>1990</th>\n",
       "      <td>52</td>\n",
       "      <td>139</td>\n",
       "      <td>743</td>\n",
       "      <td>130</td>\n",
       "      <td>33</td>\n",
       "      <td>333</td>\n",
       "      <td>1036</td>\n",
       "      <td>299</td>\n",
       "      <td>139</td>\n",
       "      <td>322</td>\n",
       "      <td>120</td>\n",
       "      <td>121</td>\n",
       "      <td>105</td>\n",
       "      <td>55</td>\n",
       "      <td>30</td>\n",
       "      <td>61</td>\n",
       "      <td>10</td>\n",
       "      <td>19</td>\n",
       "    </tr>\n",
       "    <tr>\n",
       "      <th>2000</th>\n",
       "      <td>8</td>\n",
       "      <td>9</td>\n",
       "      <td>69</td>\n",
       "      <td>6</td>\n",
       "      <td>1</td>\n",
       "      <td>17</td>\n",
       "      <td>55</td>\n",
       "      <td>19</td>\n",
       "      <td>8</td>\n",
       "      <td>25</td>\n",
       "      <td>8</td>\n",
       "      <td>10</td>\n",
       "      <td>8</td>\n",
       "      <td>2</td>\n",
       "      <td>1</td>\n",
       "      <td>1</td>\n",
       "      <td>0</td>\n",
       "      <td>0</td>\n",
       "    </tr>\n",
       "  </tbody>\n",
       "</table>\n",
       "</div>"
      ],
      "text/plain": [
       "        Animation  Children's  Comedy  Adventure  Fantasy  Romance  Drama  \\\n",
       "decada                                                                      \n",
       "1910            0           0       1          1        0        0      2   \n",
       "1920            0           0      13          1        0        2     14   \n",
       "1930            2           4      23          6        0       15     26   \n",
       "1940           11          13      22          6        0       14     44   \n",
       "1950            5          10      25         13        4       18     62   \n",
       "1960            5          20      41         16        2       10     69   \n",
       "1970            8          25      63         26        4        8     84   \n",
       "1980           14          31     200         78       24       54    211   \n",
       "1990           52         139     743        130       33      333   1036   \n",
       "2000            8           9      69          6        1       17     55   \n",
       "\n",
       "        Action  Crime  Thriller  Horror  Sci-Fi  Documentary  War  Musical  \\\n",
       "decada                                                                       \n",
       "1910         1      0         0       0       0            0    0        0   \n",
       "1920         1      1         2       1       1            0    2        1   \n",
       "1930         3      4         9       7       1            1    5       11   \n",
       "1940         2      8        17      14       1            0   11       14   \n",
       "1950        10      7        16      20      32            1   13       17   \n",
       "1960        17      6        24      26      13            1   13       19   \n",
       "1970        41     17        22      35      31            2   11        9   \n",
       "1980       110     21        55     112      66            9   31       12   \n",
       "1990       299    139       322     120     121          105   55       30   \n",
       "2000        19      8        25       8      10            8    2        1   \n",
       "\n",
       "        Mystery  Film-Noir  Western  \n",
       "decada                               \n",
       "1910          0          0        0  \n",
       "1920          0          0        0  \n",
       "1930          5          1        1  \n",
       "1940          9         17        7  \n",
       "1950          7          9        7  \n",
       "1960          5          2       16  \n",
       "1970          6          1       15  \n",
       "1980         12          4        3  \n",
       "1990         61         10       19  \n",
       "2000          1          0        0  "
      ]
     },
     "execution_count": 246,
     "metadata": {},
     "output_type": "execute_result"
    }
   ],
   "source": [
    "decada_genere"
   ]
  },
  {
   "cell_type": "code",
   "execution_count": 247,
   "metadata": {
    "scrolled": true
   },
   "outputs": [
    {
     "data": {
      "image/png": "[encoded data removed]",
      "text/plain": [
       "<Figure size 432x288 with 1 Axes>"
      ]
     },
     "metadata": {
      "needs_background": "light"
     },
     "output_type": "display_data"
    }
   ],
   "source": [
    "# Plot\n",
    "#plt.axis([1910, 2000, 0, 60])\n",
    "x = decada_genere.index\n",
    "for col in decada_genere.columns:\n",
    "    y = decada_genere[col]\n",
    "    plt.plot(x, y, linestyle='solid',label=col)\n",
    "plt.grid(linestyle='--',alpha = 0.4)\n",
    "\n",
    "plt.title('Pel·lícules de cada gènere al llarg de les dècades del segle XX')\n",
    "plt.xlabel('Dècada')\n",
    "plt.ylabel('Nombre de pel·lícules')\n",
    "plt.legend(loc='upper left')\n",
    "plt.show()"
   ]
  },
  {
   "cell_type": "markdown",
   "metadata": {},
   "source": [
    "Com que, tal com s'ha vist anteriorment, hi ha moltes més pel·lícules als anys 90 que a la resta de dècades, el gràfic queda una mica desvirtuat. La cosa millora si es canvien els valors unitaris per **percentatges**:"
   ]
  },
  {
   "cell_type": "code",
   "execution_count": 265,
   "metadata": {},
   "outputs": [
    {
     "data": {
      "text/html": [
       "<div>\n",
       "<style scoped>\n",
       "    .dataframe tbody tr th:only-of-type {\n",
       "        vertical-align: middle;\n",
       "    }\n",
       "\n",
       "    .dataframe tbody tr th {\n",
       "        vertical-align: top;\n",
       "    }\n",
       "\n",
       "    .dataframe thead th {\n",
       "        text-align: right;\n",
       "    }\n",
       "</style>\n",
       "<table border=\"1\" class=\"dataframe\">\n",
       "  <thead>\n",
       "    <tr style=\"text-align: right;\">\n",
       "      <th></th>\n",
       "      <th>Animation</th>\n",
       "      <th>Children's</th>\n",
       "      <th>Comedy</th>\n",
       "      <th>Adventure</th>\n",
       "      <th>Fantasy</th>\n",
       "      <th>Romance</th>\n",
       "      <th>Drama</th>\n",
       "      <th>Action</th>\n",
       "      <th>Crime</th>\n",
       "      <th>Thriller</th>\n",
       "      <th>Horror</th>\n",
       "      <th>Sci-Fi</th>\n",
       "      <th>Documentary</th>\n",
       "      <th>War</th>\n",
       "      <th>Musical</th>\n",
       "      <th>Mystery</th>\n",
       "      <th>Film-Noir</th>\n",
       "      <th>Western</th>\n",
       "      <th>total</th>\n",
       "    </tr>\n",
       "    <tr>\n",
       "      <th>decada</th>\n",
       "      <th></th>\n",
       "      <th></th>\n",
       "      <th></th>\n",
       "      <th></th>\n",
       "      <th></th>\n",
       "      <th></th>\n",
       "      <th></th>\n",
       "      <th></th>\n",
       "      <th></th>\n",
       "      <th></th>\n",
       "      <th></th>\n",
       "      <th></th>\n",
       "      <th></th>\n",
       "      <th></th>\n",
       "      <th></th>\n",
       "      <th></th>\n",
       "      <th></th>\n",
       "      <th></th>\n",
       "      <th></th>\n",
       "    </tr>\n",
       "  </thead>\n",
       "  <tbody>\n",
       "    <tr>\n",
       "      <th>1910</th>\n",
       "      <td>0.000000</td>\n",
       "      <td>0.000000</td>\n",
       "      <td>20.000000</td>\n",
       "      <td>20.000000</td>\n",
       "      <td>0.000000</td>\n",
       "      <td>0.000000</td>\n",
       "      <td>40.000000</td>\n",
       "      <td>20.000000</td>\n",
       "      <td>0.000000</td>\n",
       "      <td>0.000000</td>\n",
       "      <td>0.000000</td>\n",
       "      <td>0.000000</td>\n",
       "      <td>0.000000</td>\n",
       "      <td>0.000000</td>\n",
       "      <td>0.000000</td>\n",
       "      <td>0.000000</td>\n",
       "      <td>0.000000</td>\n",
       "      <td>0.000000</td>\n",
       "      <td>100.0</td>\n",
       "    </tr>\n",
       "    <tr>\n",
       "      <th>1920</th>\n",
       "      <td>0.000000</td>\n",
       "      <td>0.000000</td>\n",
       "      <td>33.333333</td>\n",
       "      <td>2.564103</td>\n",
       "      <td>0.000000</td>\n",
       "      <td>5.128205</td>\n",
       "      <td>35.897436</td>\n",
       "      <td>2.564103</td>\n",
       "      <td>2.564103</td>\n",
       "      <td>5.128205</td>\n",
       "      <td>2.564103</td>\n",
       "      <td>2.564103</td>\n",
       "      <td>0.000000</td>\n",
       "      <td>5.128205</td>\n",
       "      <td>2.564103</td>\n",
       "      <td>0.000000</td>\n",
       "      <td>0.000000</td>\n",
       "      <td>0.000000</td>\n",
       "      <td>100.0</td>\n",
       "    </tr>\n",
       "    <tr>\n",
       "      <th>1930</th>\n",
       "      <td>1.612903</td>\n",
       "      <td>3.225806</td>\n",
       "      <td>18.548387</td>\n",
       "      <td>4.838710</td>\n",
       "      <td>0.000000</td>\n",
       "      <td>12.096774</td>\n",
       "      <td>20.967742</td>\n",
       "      <td>2.419355</td>\n",
       "      <td>3.225806</td>\n",
       "      <td>7.258065</td>\n",
       "      <td>5.645161</td>\n",
       "      <td>0.806452</td>\n",
       "      <td>0.806452</td>\n",
       "      <td>4.032258</td>\n",
       "      <td>8.870968</td>\n",
       "      <td>4.032258</td>\n",
       "      <td>0.806452</td>\n",
       "      <td>0.806452</td>\n",
       "      <td>100.0</td>\n",
       "    </tr>\n",
       "    <tr>\n",
       "      <th>1940</th>\n",
       "      <td>5.238095</td>\n",
       "      <td>6.190476</td>\n",
       "      <td>10.476190</td>\n",
       "      <td>2.857143</td>\n",
       "      <td>0.000000</td>\n",
       "      <td>6.666667</td>\n",
       "      <td>20.952381</td>\n",
       "      <td>0.952381</td>\n",
       "      <td>3.809524</td>\n",
       "      <td>8.095238</td>\n",
       "      <td>6.666667</td>\n",
       "      <td>0.476190</td>\n",
       "      <td>0.000000</td>\n",
       "      <td>5.238095</td>\n",
       "      <td>6.666667</td>\n",
       "      <td>4.285714</td>\n",
       "      <td>8.095238</td>\n",
       "      <td>3.333333</td>\n",
       "      <td>100.0</td>\n",
       "    </tr>\n",
       "    <tr>\n",
       "      <th>1950</th>\n",
       "      <td>1.811594</td>\n",
       "      <td>3.623188</td>\n",
       "      <td>9.057971</td>\n",
       "      <td>4.710145</td>\n",
       "      <td>1.449275</td>\n",
       "      <td>6.521739</td>\n",
       "      <td>22.463768</td>\n",
       "      <td>3.623188</td>\n",
       "      <td>2.536232</td>\n",
       "      <td>5.797101</td>\n",
       "      <td>7.246377</td>\n",
       "      <td>11.594203</td>\n",
       "      <td>0.362319</td>\n",
       "      <td>4.710145</td>\n",
       "      <td>6.159420</td>\n",
       "      <td>2.536232</td>\n",
       "      <td>3.260870</td>\n",
       "      <td>2.536232</td>\n",
       "      <td>100.0</td>\n",
       "    </tr>\n",
       "    <tr>\n",
       "      <th>1960</th>\n",
       "      <td>1.639344</td>\n",
       "      <td>6.557377</td>\n",
       "      <td>13.442623</td>\n",
       "      <td>5.245902</td>\n",
       "      <td>0.655738</td>\n",
       "      <td>3.278689</td>\n",
       "      <td>22.622951</td>\n",
       "      <td>5.573770</td>\n",
       "      <td>1.967213</td>\n",
       "      <td>7.868852</td>\n",
       "      <td>8.524590</td>\n",
       "      <td>4.262295</td>\n",
       "      <td>0.327869</td>\n",
       "      <td>4.262295</td>\n",
       "      <td>6.229508</td>\n",
       "      <td>1.639344</td>\n",
       "      <td>0.655738</td>\n",
       "      <td>5.245902</td>\n",
       "      <td>100.0</td>\n",
       "    </tr>\n",
       "    <tr>\n",
       "      <th>1970</th>\n",
       "      <td>1.960784</td>\n",
       "      <td>6.127451</td>\n",
       "      <td>15.441176</td>\n",
       "      <td>6.372549</td>\n",
       "      <td>0.980392</td>\n",
       "      <td>1.960784</td>\n",
       "      <td>20.588235</td>\n",
       "      <td>10.049020</td>\n",
       "      <td>4.166667</td>\n",
       "      <td>5.392157</td>\n",
       "      <td>8.578431</td>\n",
       "      <td>7.598039</td>\n",
       "      <td>0.490196</td>\n",
       "      <td>2.696078</td>\n",
       "      <td>2.205882</td>\n",
       "      <td>1.470588</td>\n",
       "      <td>0.245098</td>\n",
       "      <td>3.676471</td>\n",
       "      <td>100.0</td>\n",
       "    </tr>\n",
       "    <tr>\n",
       "      <th>1980</th>\n",
       "      <td>1.337154</td>\n",
       "      <td>2.960840</td>\n",
       "      <td>19.102197</td>\n",
       "      <td>7.449857</td>\n",
       "      <td>2.292264</td>\n",
       "      <td>5.157593</td>\n",
       "      <td>20.152818</td>\n",
       "      <td>10.506208</td>\n",
       "      <td>2.005731</td>\n",
       "      <td>5.253104</td>\n",
       "      <td>10.697230</td>\n",
       "      <td>6.303725</td>\n",
       "      <td>0.859599</td>\n",
       "      <td>2.960840</td>\n",
       "      <td>1.146132</td>\n",
       "      <td>1.146132</td>\n",
       "      <td>0.382044</td>\n",
       "      <td>0.286533</td>\n",
       "      <td>100.0</td>\n",
       "    </tr>\n",
       "    <tr>\n",
       "      <th>1990</th>\n",
       "      <td>1.387777</td>\n",
       "      <td>3.709634</td>\n",
       "      <td>19.829197</td>\n",
       "      <td>3.469442</td>\n",
       "      <td>0.880705</td>\n",
       "      <td>8.887110</td>\n",
       "      <td>27.648786</td>\n",
       "      <td>7.979717</td>\n",
       "      <td>3.709634</td>\n",
       "      <td>8.593541</td>\n",
       "      <td>3.202562</td>\n",
       "      <td>3.229250</td>\n",
       "      <td>2.802242</td>\n",
       "      <td>1.467841</td>\n",
       "      <td>0.800641</td>\n",
       "      <td>1.627969</td>\n",
       "      <td>0.266880</td>\n",
       "      <td>0.507072</td>\n",
       "      <td>100.0</td>\n",
       "    </tr>\n",
       "    <tr>\n",
       "      <th>2000</th>\n",
       "      <td>3.238866</td>\n",
       "      <td>3.643725</td>\n",
       "      <td>27.935223</td>\n",
       "      <td>2.429150</td>\n",
       "      <td>0.404858</td>\n",
       "      <td>6.882591</td>\n",
       "      <td>22.267206</td>\n",
       "      <td>7.692308</td>\n",
       "      <td>3.238866</td>\n",
       "      <td>10.121457</td>\n",
       "      <td>3.238866</td>\n",
       "      <td>4.048583</td>\n",
       "      <td>3.238866</td>\n",
       "      <td>0.809717</td>\n",
       "      <td>0.404858</td>\n",
       "      <td>0.404858</td>\n",
       "      <td>0.000000</td>\n",
       "      <td>0.000000</td>\n",
       "      <td>100.0</td>\n",
       "    </tr>\n",
       "  </tbody>\n",
       "</table>\n",
       "</div>"
      ],
      "text/plain": [
       "        Animation  Children's     Comedy  Adventure   Fantasy    Romance  \\\n",
       "decada                                                                     \n",
       "1910     0.000000    0.000000  20.000000  20.000000  0.000000   0.000000   \n",
       "1920     0.000000    0.000000  33.333333   2.564103  0.000000   5.128205   \n",
       "1930     1.612903    3.225806  18.548387   4.838710  0.000000  12.096774   \n",
       "1940     5.238095    6.190476  10.476190   2.857143  0.000000   6.666667   \n",
       "1950     1.811594    3.623188   9.057971   4.710145  1.449275   6.521739   \n",
       "1960     1.639344    6.557377  13.442623   5.245902  0.655738   3.278689   \n",
       "1970     1.960784    6.127451  15.441176   6.372549  0.980392   1.960784   \n",
       "1980     1.337154    2.960840  19.102197   7.449857  2.292264   5.157593   \n",
       "1990     1.387777    3.709634  19.829197   3.469442  0.880705   8.887110   \n",
       "2000     3.238866    3.643725  27.935223   2.429150  0.404858   6.882591   \n",
       "\n",
       "            Drama     Action     Crime   Thriller     Horror     Sci-Fi  \\\n",
       "decada                                                                    \n",
       "1910    40.000000  20.000000  0.000000   0.000000   0.000000   0.000000   \n",
       "1920    35.897436   2.564103  2.564103   5.128205   2.564103   2.564103   \n",
       "1930    20.967742   2.419355  3.225806   7.258065   5.645161   0.806452   \n",
       "1940    20.952381   0.952381  3.809524   8.095238   6.666667   0.476190   \n",
       "1950    22.463768   3.623188  2.536232   5.797101   7.246377  11.594203   \n",
       "1960    22.622951   5.573770  1.967213   7.868852   8.524590   4.262295   \n",
       "1970    20.588235  10.049020  4.166667   5.392157   8.578431   7.598039   \n",
       "1980    20.152818  10.506208  2.005731   5.253104  10.697230   6.303725   \n",
       "1990    27.648786   7.979717  3.709634   8.593541   3.202562   3.229250   \n",
       "2000    22.267206   7.692308  3.238866  10.121457   3.238866   4.048583   \n",
       "\n",
       "        Documentary       War   Musical   Mystery  Film-Noir   Western  total  \n",
       "decada                                                                         \n",
       "1910       0.000000  0.000000  0.000000  0.000000   0.000000  0.000000  100.0  \n",
       "1920       0.000000  5.128205  2.564103  0.000000   0.000000  0.000000  100.0  \n",
       "1930       0.806452  4.032258  8.870968  4.032258   0.806452  0.806452  100.0  \n",
       "1940       0.000000  5.238095  6.666667  4.285714   8.095238  3.333333  100.0  \n",
       "1950       0.362319  4.710145  6.159420  2.536232   3.260870  2.536232  100.0  \n",
       "1960       0.327869  4.262295  6.229508  1.639344   0.655738  5.245902  100.0  \n",
       "1970       0.490196  2.696078  2.205882  1.470588   0.245098  3.676471  100.0  \n",
       "1980       0.859599  2.960840  1.146132  1.146132   0.382044  0.286533  100.0  \n",
       "1990       2.802242  1.467841  0.800641  1.627969   0.266880  0.507072  100.0  \n",
       "2000       3.238866  0.809717  0.404858  0.404858   0.000000  0.000000  100.0  "
      ]
     },
     "execution_count": 265,
     "metadata": {},
     "output_type": "execute_result"
    }
   ],
   "source": [
    "# Nou df amb %, enlloc de valors unitaris:\n",
    "decada_genere2 = decada_genere.copy(deep=True) #deep=True pq no vull que es copiin recursivament, només vull mantenir el df original\n",
    "decada_genere2[\"total\"] = pd.Series(decada_genere.sum(axis=1)) #sumar els valors per fila, els totals de cada dècada\n",
    "for col in decada_genere2.columns:\n",
    "    decada_genere2[col] = (decada_genere2[col]/decada_genere2[\"total\"])*100\n",
    "decada_genere2"
   ]
  },
  {
   "cell_type": "code",
   "execution_count": 271,
   "metadata": {},
   "outputs": [
    {
     "data": {
      "image/png": "[encoded data removed]",
      "text/plain": [
       "<Figure size 432x288 with 1 Axes>"
      ]
     },
     "metadata": {
      "needs_background": "light"
     },
     "output_type": "display_data"
    }
   ],
   "source": [
    "decada_genere2 = decada_genere2.drop(\"total\", axis=1)#no volem que surti el total (100%) al gràfic\n",
    "x = decada_genere2.index\n",
    "for col in decada_genere2.columns:\n",
    "    y = decada_genere2[col]\n",
    "    plt.plot(x, y, linestyle='solid',label=col)\n",
    "plt.grid(linestyle='--',alpha = 0.4)\n",
    "\n",
    "plt.title('Pel·lícules de cada gènere al llarg de les dècades del segle XX')\n",
    "plt.xlabel('Dècada')\n",
    "plt.ylabel('% de pel·lícules')\n",
    "plt.legend(loc='upper left')\n",
    "plt.show()"
   ]
  },
  {
   "cell_type": "markdown",
   "metadata": {},
   "source": [
    "**Aquest gràfic és doncs el primer amb el que em quedaria.**\n",
    "\n",
    "S'observa que el gènere de _Drama_ ha estat sempre el predominant, mantenint sempre >20% de les pel·lícules realitzades. El gènere de _Comèdia_ ha estat el segon més popular en gairebé totes les dècades, tot i que amb menys constància pel que fa al rati i, fins i tot, veient-se superat per la _Ciència Ficció_ en la dècada dels 50s.\n",
    "\n",
    "Altres gèneres que han destacat puntualment són: l'_Acció_, als 10s; el _Romàntic_, als 30s; i el _Thriller_, al 2000. Aquest últim s'ha mantingut entre el 5 i el 10% des dels anys 20s. També es pot mencionar el cinema d'_Acció_, que va tenir unacrescuda important des dels anys 60s en endavant, i la temàtica d'_Horror_, que també va tenir un increment sostingut des de principis de segle, però es va acabar desplomant als 90s.\n",
    "\n",
    "En definitiva, aquesta nova ordenació de les dades i la respectiva visualització gràfica, permet treure molta informació de les dades."
   ]
  },
  {
   "cell_type": "markdown",
   "metadata": {},
   "source": [
    "### <span style=color:darkBLUE>3.2. PEL·LÍCULES REPETIDES</span>"
   ]
  },
  {
   "cell_type": "markdown",
   "metadata": {},
   "source": [
    "Anteriorment s'ha observat que hi ha **pel·lícules repetides** (In[9]). Vegem quines són:"
   ]
  },
  {
   "cell_type": "code",
   "execution_count": 55,
   "metadata": {},
   "outputs": [
    {
     "data": {
      "text/plain": [
       "film\n",
       "Hamlet                                        5\n",
       "Mummy, The                                    3\n",
       "Shaft                                         2\n",
       "Sabrina                                       2\n",
       "Fly, The                                      2\n",
       "King and I, The                               2\n",
       "King Kong                                     2\n",
       "End of the Affair, The                        2\n",
       "Parent Trap, The                              2\n",
       "Titanic                                       2\n",
       "Dracula                                       2\n",
       "Wonderland                                    2\n",
       "Nutty Professor, The                          2\n",
       "Godzilla (Gojira)                             2\n",
       "Psycho                                        2\n",
       "General, The                                  2\n",
       "True Crime                                    2\n",
       "Man Who Knew Too Much, The                    2\n",
       "Haunting, The                                 2\n",
       "Kid, The                                      2\n",
       "Get Carter                                    2\n",
       "Mighty Joe Young                              2\n",
       "Village of the Damned                         2\n",
       "Othello                                       2\n",
       "Jungle Book, The                              2\n",
       "That Darn Cat!                                2\n",
       "My Man Godfrey                                2\n",
       "Miracle on 34th Street                        2\n",
       "Doctor Dolittle                               2\n",
       "Thomas Crown Affair, The                      2\n",
       "101 Dalmatians                                2\n",
       "Cape Fear                                     2\n",
       "Kronos                                        2\n",
       "Loser                                         2\n",
       "Scarlet Letter, The                           2\n",
       "Ballad of Narayama, The (Narayama Bushiko)    2\n",
       "Lolita                                        2\n",
       "Mis�rables, Les                               2\n",
       "Name: year, dtype: int64"
      ]
     },
     "execution_count": 55,
     "metadata": {},
     "output_type": "execute_result"
    }
   ],
   "source": [
    "repetides = movies2.groupby([\"film\"]).count().sort_values(by = 'year',ascending = False)\n",
    "repetides[repetides[\"year\"]>1][\"year\"]"
   ]
  },
  {
   "cell_type": "markdown",
   "metadata": {},
   "source": [
    "<span style=color:darkBLUE>**Aquí podria ser interessant veure:**</span>\n",
    "- Quants anys s'ha trigat a repetir aquestes pel·lícules, i també veure \n",
    "- Si hi ha diferències entre el grup de pel·lícules repetides i les úniques\n",
    "\n",
    "<span style=color:RED>**No trec més gràfics perquè ja m'he estès suficientment.**</span>"
   ]
  }
 ],
 "metadata": {
  "kernelspec": {
   "display_name": "Python 3",
   "language": "python",
   "name": "python3"
  },
  "language_info": {
   "codemirror_mode": {
    "name": "ipython",
    "version": 3
   },
   "file_extension": ".py",
   "mimetype": "text/x-python",
   "name": "python",
   "nbconvert_exporter": "python",
   "pygments_lexer": "ipython3",
   "version": "3.8.8"
  },
  "toc": {
   "base_numbering": 1,
   "nav_menu": {},
   "number_sections": true,
   "sideBar": true,
   "skip_h1_title": false,
   "title_cell": "Table of Contents",
   "title_sidebar": "Contents",
   "toc_cell": false,
   "toc_position": {
    "height": "calc(100% - 180px)",
    "left": "10px",
    "top": "150px",
    "width": "417.458px"
   },
   "toc_section_display": true,
   "toc_window_display": false
  },
  "varInspector": {
   "cols": {
    "lenName": 16,
    "lenType": 16,
    "lenVar": 40
   },
   "kernels_config": {
    "python": {
     "delete_cmd_postfix": "",
     "delete_cmd_prefix": "del ",
     "library": "var_list.py",
     "varRefreshCmd": "print(var_dic_list())"
    },
    "r": {
     "delete_cmd_postfix": ") ",
     "delete_cmd_prefix": "rm(",
     "library": "var_list.r",
     "varRefreshCmd": "cat(var_dic_list()) "
    }
   },
   "types_to_exclude": [
    "module",
    "function",
    "builtin_function_or_method",
    "instance",
    "_Feature"
   ],
   "window_display": false
  }
 },
 "nbformat": 4,
 "nbformat_minor": 2
}
